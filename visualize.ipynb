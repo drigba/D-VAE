{
 "cells": [
  {
   "cell_type": "code",
   "execution_count": 1,
   "metadata": {},
   "outputs": [],
   "source": [
    "from __future__ import print_function\n",
    "import os\n",
    "import sys\n",
    "import math\n",
    "import pickle\n",
    "import pdb\n",
    "import argparse\n",
    "import random\n",
    "from tqdm import tqdm\n",
    "from shutil import copy\n",
    "import torch\n",
    "from torch import nn, optim\n",
    "from torch.optim.lr_scheduler import ReduceLROnPlateau\n",
    "import numpy as np\n",
    "from scipy.linalg import qr \n",
    "import igraph as ig\n",
    "from random import shuffle\n",
    "import matplotlib\n",
    "import matplotlib.pyplot as plt\n",
    "import matplotlib.image as mpimg\n",
    "from util import *\n",
    "from modelsRIGHT import *\n",
    "from igraph import *\n",
    "import networkx as nx\n",
    "from collections import Counter\n",
    "import importlib\n",
    "from sklearn.decomposition import PCA\n",
    "from dotmap import DotMap\n",
    "import pandas as pd\n",
    "import json\n",
    "from scipy.stats import wasserstein_distance\n",
    "import csv\n",
    "from pathlib import Path\n",
    "import re\n",
    "import visualize_util\n",
    "from visualize_util import *\n",
    "\n",
    "p = os.path.join(\"vertex_5_7dim_latent_KL0.01_DVAE_NOBATCHNORM_ROW_hs256_batchsize64\",\"final_structures6_4\")\n",
    "vis_path = os.path.join(p, \"evaluation\")\n",
    "csv_file_path = \"summary.csv\"\n",
    "if( not os.path.exists(vis_path)):\n",
    "    os.makedirs(vis_path)\n",
    "argsFile = os.path.join(p,\"cmd_input.txt\")\n",
    "with open(argsFile) as f:\n",
    "    argsJSON = json.load(f)\n",
    "args = DotMap(argsJSON)\n",
    "\n"
   ]
  },
  {
   "cell_type": "code",
   "execution_count": 2,
   "metadata": {},
   "outputs": [],
   "source": [
    "# df = pd.read_csv(\"vertex_4_2dim_latent_batchnorm2\\\\final_structures6\\\\train_loss.txt\", sep= \" \")\n",
    "# df2 = pd.read_csv(\"vertex_4_4dim_latent\\\\final_structures6\\\\train_loss.txt\", sep= \" \")\n",
    "# df3 = pd.read_csv(\"train_lossBIG.txt\", sep= \" \")\n",
    "# df4 = pd.read_csv(\"vertex_4_2dimLatent_new\\\\final_structures6\\\\train_loss.txt\", sep= \" \")\n",
    "df5 = pd.read_csv(os.path.join(p,\"train_loss.txt\"), sep= \" \")\n",
    "\n",
    "ix=df5.iloc[:,[0,2]].sum(1).idxmin()\n",
    "# print(ix)\n",
    "# print(df5.iloc[[300]])\n"
   ]
  },
  {
   "cell_type": "code",
   "execution_count": 3,
   "metadata": {},
   "outputs": [
    {
     "data": {
      "text/plain": [
       "<Figure size 640x480 with 0 Axes>"
      ]
     },
     "metadata": {},
     "output_type": "display_data"
    },
    {
     "data": {
      "image/png": "[encoded data removed]",
      "text/plain": [
       "<Figure size 640x480 with 1 Axes>"
      ]
     },
     "metadata": {},
     "output_type": "display_data"
    }
   ],
   "source": [
    "plt.figure(dpi = 100)\n",
    "fig1, ax1 = plt.subplots()\n",
    "ax1.plot(df5.iloc[:,3], label='Validation')\n",
    "ax1.plot(df5.iloc[:,0], label='Train')\n",
    "ax1.plot(df5.iloc[:,4], label='Test')\n",
    "ax1.get_yaxis().set_major_formatter(matplotlib.ticker.ScalarFormatter())\n",
    "ax1.set_yscale('log')\n",
    "ax1.set_ylabel('Loss')\n",
    "ax1.set_xlabel('Epoch')\n",
    "\n",
    "\n",
    "ax1.legend()\n",
    "ax1.set_yticks([10,5,4,3,2,1])\n",
    "ax1.set_yticklabels([10,5,4,3,2,1])\n",
    "ax1.get_yaxis().get_major_formatter().labelOnlyBase = False\n",
    "# plt.plot(df3.iloc[:2949,4], label='Total')"
   ]
  },
  {
   "cell_type": "code",
   "execution_count": 4,
   "metadata": {},
   "outputs": [
    {
     "name": "stdout",
     "output_type": "stream",
     "text": [
      "1\n",
      "DotMap(data_type='BN', data_name='final_structures6', nvt=7, max_n=7, save_appendix='', save_interval=1, sample_number=20, no_test=False, reprocess=False, keep_old=False, only_test=False, small_train=False, model='DVAE_NOBATCHNORM_ROW', hs=256, nz=7, beta=0.01, save_start=0, early_stop_patience=50, lr=0.0001, epochs=3000, batch_size=64, load_latest_model=False, continue_from=None, bidirectional=False, infer_batch_size=32, no_cuda=False, all_gpus=False, seed=1, cuda=True, file_dir='/home/banfizsombor/D-VAE', res_dir='/home/banfizsombor/D-VAE/vertex_5_7dim_latent_KL0.01_DVAE_NOBATCHNORM_ROW_hs256_batchsize64/final_structures6_4', scheduler_dir='/home/banfizsombor/D-VAE/vertex_5_7dim_latent_KL0.01_DVAE_NOBATCHNORM_ROW_hs256_batchsize64/final_structures6_4/scheduler', optimizer_dir='/home/banfizsombor/D-VAE/vertex_5_7dim_latent_KL0.01_DVAE_NOBATCHNORM_ROW_hs256_batchsize64/final_structures6_4/optimizer', model_dir='/home/banfizsombor/D-VAE/vertex_5_7dim_latent_KL0.01_DVAE_NOBATCHNORM_ROW_hs256_batchsize64/final_structures6_4/model', latent_dir='/home/banfizsombor/D-VAE/vertex_5_7dim_latent_KL0.01_DVAE_NOBATCHNORM_ROW_hs256_batchsize64/final_structures6_4/latent', fig_dir='/home/banfizsombor/D-VAE/vertex_5_7dim_latent_KL0.01_DVAE_NOBATCHNORM_ROW_hs256_batchsize64/final_structures6_4/figures')\n",
      "<class 'int'>\n",
      "cuda:0\n"
     ]
    }
   ],
   "source": [
    "\n",
    "print(args.seed)\n",
    "print(args)\n",
    "print(type(args.seed))\n",
    "args.cuda = not args.no_cuda and torch.cuda.is_available()\n",
    "torch.manual_seed(args.seed)\n",
    "if args.cuda:\n",
    "    torch.cuda.manual_seed(args.seed)\n",
    "    device = torch.device(\"cuda:0\")\n",
    "else:\n",
    "    device = torch.device(\"cpu\")\n",
    "np.random.seed(args.seed)\n",
    "random.seed(args.seed)\n",
    "print(device)\n"
   ]
  },
  {
   "cell_type": "code",
   "execution_count": 5,
   "metadata": {},
   "outputs": [
    {
     "name": "stdout",
     "output_type": "stream",
     "text": [
      "cuda:0\n",
      "DotMap(max_n=7, num_vertex_type=7, START_TYPE=0, END_TYPE=1)\n"
     ]
    }
   ],
   "source": [
    "graph_args = DotMap()\n",
    "graph_args.max_n = args.nvt\n",
    "graph_args.num_vertex_type = args.max_n\n",
    "graph_args.START_TYPE = 0\n",
    "graph_args.END_TYPE = 1\n",
    "model = eval(args.model)(\n",
    "        graph_args.max_n, \n",
    "        graph_args.num_vertex_type, \n",
    "        graph_args.START_TYPE, \n",
    "        graph_args.END_TYPE, \n",
    "        hs=args.hs, \n",
    "        nz=args.nz, \n",
    "        bidirectional=args.bidirectional        )\n",
    "model.device = device\n",
    "model = model.to(device)\n",
    "print(model.get_device())\n",
    "optimizer = optim.Adam(model.parameters(), lr=args.lr)\n",
    "scheduler = ReduceLROnPlateau(optimizer, 'min', factor=0.1, patience=10, verbose=True)\n",
    "print(graph_args)"
   ]
  },
  {
   "cell_type": "code",
   "execution_count": 6,
   "metadata": {},
   "outputs": [
    {
     "name": "stderr",
     "output_type": "stream",
     "text": [
      "100%|██████████| 29281/29281 [00:06<00:00, 4392.85it/s]"
     ]
    },
    {
     "name": "stdout",
     "output_type": "stream",
     "text": [
      "[0, 4, 6, 5, 2, 3, 1]\n",
      "29281\n"
     ]
    },
    {
     "name": "stderr",
     "output_type": "stream",
     "text": [
      "\n"
     ]
    }
   ],
   "source": [
    "all_data = []\n",
    "all_data_cleaned = []\n",
    "train_data = []\n",
    "test_data = []\n",
    "graph_path = os.path.join(\"..\", \"graph_data\", \"vertex5\")\n",
    "for ix,filename in enumerate(tqdm(os.listdir(graph_path))):\n",
    "    path = os.path.join(graph_path, filename)\n",
    "    with open(path, 'rb') as pickle_file:\n",
    "        # Load file\n",
    "        graph = pickle.load(pickle_file)\n",
    "        edge_list = graph.get_edgelist()\n",
    "        # Create new graph\n",
    "        graph2 = ig.Graph(directed=True)\n",
    "        graph2.add_vertices(args.max_n)\n",
    "        # Copy vertices to new graph\n",
    "        for vs_i in range(len(graph.vs)):\n",
    "            graph2.vs[vs_i+1]['type'] =  graph.vs[vs_i]['_nx_name']+2\n",
    "        # Copy edges to new graph\n",
    "        for edge_pair in edge_list:\n",
    "            p1 = edge_pair[0]\n",
    "            p2 = edge_pair[1]\n",
    "            graph2.add_edge(p1+1,p2+1)\n",
    "        # Set vertex attributes\n",
    "        graph2.vs[0]['type'] = graph_args.START_TYPE\n",
    "        graph2.vs[args.max_n-1]['type'] = graph_args.END_TYPE\n",
    "        # graph2.add_edge(0,1)\n",
    "        # graph2.add_edge(4,5)\n",
    "\n",
    "        for vs_i,vs in enumerate(graph2.vs[1:-1]):\n",
    "            if(len(vs.in_edges()) == 0):\n",
    "                graph2.add_edge(0, vs_i+1)\n",
    "            if(len(vs.out_edges()) == 0):\n",
    "                graph2.add_edge(vs_i+1, len(graph2.vs)-1)\n",
    "        all_data.append(graph2)\n",
    "        all_data_cleaned.append(graph2)\n",
    "\n",
    "print(all_data[0].vs[\"type\"])\n",
    "# print(all_data[1].vs[\"type\"])\n",
    "print(len(all_data))\n",
    "\n"
   ]
  },
  {
   "cell_type": "code",
   "execution_count": 7,
   "metadata": {},
   "outputs": [
    {
     "name": "stdout",
     "output_type": "stream",
     "text": [
      "vertex_5_7dim_latent_KL0.01_DVAE_NOBATCHNORM_ROW_hs256_batchsize64/final_structures6_4/model\n",
      "vertex_5_7dim_latent_KL0.01_DVAE_NOBATCHNORM_ROW_hs256_batchsize64/final_structures6_4/model/model_checkpoint33.pth\n",
      "model_checkpoint33.pth\n",
      "33\n"
     ]
    }
   ],
   "source": [
    "\n",
    "model_dir = os.path.join(p, \"model\")\n",
    "print(model_dir)\n",
    "files = [os.path.join(model_dir, file) for file in os.listdir(model_dir)]\n",
    "latest_checkpoint = max(files, key= os.path.getctime)\n",
    "print(latest_checkpoint)\n",
    "latest_checkpoint_filename = Path(latest_checkpoint).name\n",
    "print(latest_checkpoint_filename)\n",
    "last_epoch = re.findall(r'\\d+', latest_checkpoint_filename)\n",
    "print(last_epoch[0])\n",
    "\n",
    "# q = 563\n",
    "# latest_checkpoint = os.path.join(model_dir,\"model_checkpoint\"+str(q)+\".pth\")\n",
    "# print(latest_checkpoint)\n",
    "load_module_state(model,latest_checkpoint)\n",
    "\n"
   ]
  },
  {
   "cell_type": "code",
   "execution_count": 8,
   "metadata": {},
   "outputs": [
    {
     "name": "stderr",
     "output_type": "stream",
     "text": [
      "  0%|          | 0/29281 [00:00<?, ?it/s]"
     ]
    },
    {
     "name": "stdout",
     "output_type": "stream",
     "text": [
      "(1, 1, 7)\n"
     ]
    },
    {
     "name": "stderr",
     "output_type": "stream",
     "text": [
      "\n"
     ]
    }
   ],
   "source": [
    "# ENCODE ALL DATA\n",
    "\n",
    "importlib.reload(visualize_util)\n",
    "\n",
    "latents = []\n",
    "extended = []\n",
    "min_mu = 2\n",
    "max_mu = -1\n",
    "min_g = None\n",
    "max_g = None\n",
    "percect_recon = 0\n",
    "i = 0\n",
    "for data in tqdm(all_data):\n",
    "    mu, logvar = model.encode(data)\n",
    "    z = model.reparameterize(mu,logvar)\n",
    "    # g_recon = model.decode(z)\n",
    "\n",
    "    # h1 = visualize_util.DAG_hash(data)\n",
    "    # for g_r in g_recon:\n",
    "    #     h2 = visualize_util.DAG_hash(g_r)\n",
    "    #     if h1 == h2:\n",
    "    #         percect_recon+=1\n",
    "    #         break\n",
    "    mu = mu.cpu().detach().numpy()\n",
    "\n",
    "    latents.append(mu)\n",
    "    null_edges = data.neighbors(0, 'out')\n",
    "    # print(data.vcount())\n",
    "    end_edges = data.neighbors(args.max_n-1, 'in')\n",
    "    max_degree = np.max(data.vs.degree())\n",
    "    in_degree = np.max(data.vs.indegree())\n",
    "    out_degree = np.max(data.vs.outdegree())\n",
    "    zero_pred =  len([ix for ix in range(data.vcount()) if  data.neighbors(ix, \"in\") == [0]])    \n",
    "    zero_succ = len([ix for ix in range(data.vcount()) if  data.neighbors(ix, \"out\") == [args.max_n-1]])\n",
    "    \n",
    "    minus_edges = len(null_edges) + len(end_edges)\n",
    "    mu  = np.append(mu, data.ecount()- minus_edges)\n",
    "    mu  = np.append(mu, max_degree)\n",
    "    mu  = np.append(mu, in_degree)\n",
    "    mu  = np.append(mu, out_degree)\n",
    "    mu  = np.append(mu, zero_pred)\n",
    "    mu  = np.append(mu, zero_succ)\n",
    "    if i <= 10:\n",
    "        break\n",
    "    i+=1\n",
    "\n",
    "\n",
    "\n",
    "\n",
    "    \n",
    "    extended.append(mu)\n",
    "\n",
    "latents = np.array(latents)\n",
    "extended = np.array(extended)\n",
    "print(latents.shape)\n",
    "# print(latents)"
   ]
  },
  {
   "cell_type": "code",
   "execution_count": 9,
   "metadata": {},
   "outputs": [
    {
     "name": "stdout",
     "output_type": "stream",
     "text": [
      "Z_mean: [[ 1.1199911  -0.15352523 -1.424426    0.43807188 -2.2527416   0.7325045\n",
      "   0.01975622]]\n",
      "Z_std: [[0. 0. 0. 0. 0. 0. 0.]]\n",
      "Z norm: 3.0183845\n"
     ]
    }
   ],
   "source": [
    "print(\"Z_mean: \" + str(latents.mean(0)))\n",
    "print(\"Z_std: \" + str(latents.std(0)))\n",
    "print(\"Z norm: \" + str(np.linalg.norm(latents)))"
   ]
  },
  {
   "cell_type": "code",
   "execution_count": 10,
   "metadata": {},
   "outputs": [
    {
     "ename": "",
     "evalue": "",
     "output_type": "error",
     "traceback": [
      "\u001b[1;31mCanceled future for execute_request message before replies were done"
     ]
    },
    {
     "ename": "",
     "evalue": "",
     "output_type": "error",
     "traceback": [
      "\u001b[1;31mThe Kernel crashed while executing code in the the current cell or a previous cell. Please review the code in the cell(s) to identify a possible cause of the failure. Click <a href='https://aka.ms/vscodeJupyterKernelCrash'>here</a> for more info. View Jupyter <a href='command:jupyter.viewOutput'>log</a> for further details."
     ]
    }
   ],
   "source": [
    "# TODO\n",
    "# Hash all_data, create {hash, index} map, map hashes, create array from indexes, np hist\n",
    "all_data_hashes = {}\n",
    "for ix,a in enumerate(all_data_cleaned):\n",
    "    g_a_hash = visualize_util.DAG_hash(a)\n",
    "    all_data_hashes[g_a_hash] = ix\n",
    "\n",
    "print(len(all_data_hashes))"
   ]
  },
  {
   "cell_type": "code",
   "execution_count": null,
   "metadata": {},
   "outputs": [
    {
     "ename": "ValueError",
     "evalue": "cannot reshape array of size 7 into shape (29281,7)",
     "output_type": "error",
     "traceback": [
      "\u001b[0;31m---------------------------------------------------------------------------\u001b[0m",
      "\u001b[0;31mValueError\u001b[0m                                Traceback (most recent call last)",
      "Cell \u001b[0;32mIn [10], line 1\u001b[0m\n\u001b[0;32m----> 1\u001b[0m a \u001b[39m=\u001b[39m latents\u001b[39m.\u001b[39;49mreshape((\u001b[39mlen\u001b[39;49m(all_data),args\u001b[39m.\u001b[39;49mnz))\n\u001b[1;32m      2\u001b[0m pca \u001b[39m=\u001b[39m PCA(n_components\u001b[39m=\u001b[39m\u001b[39m2\u001b[39m)\n\u001b[1;32m      3\u001b[0m components \u001b[39m=\u001b[39m pca\u001b[39m.\u001b[39mfit_transform(a)\n",
      "\u001b[0;31mValueError\u001b[0m: cannot reshape array of size 7 into shape (29281,7)"
     ]
    }
   ],
   "source": [
    "a = latents.reshape((len(all_data),args.nz))\n",
    "pca = PCA(n_components=2)\n",
    "components = pca.fit_transform(a)\n",
    "print(type(components))\n",
    "\n",
    "fig, ax = plt.subplots(facecolor=(1, 1, 1))\n",
    "scatter = ax.scatter(components[:,0], components[:,1], c=extended[:,args.nz])\n",
    "\n",
    "legend1 = ax.legend(*scatter.legend_elements(),\n",
    "                    loc=\"upper left\",bbox_to_anchor=(1.04, 1))\n",
    "ax.add_artist(legend1)\n",
    "fig_name = os.path.join(vis_path, \"all_data_encoded\")\n",
    "fig.savefig(fig_name,bbox_inches='tight')\n",
    "plt.show()\n",
    "\n"
   ]
  },
  {
   "cell_type": "code",
   "execution_count": null,
   "metadata": {},
   "outputs": [
    {
     "name": "stdout",
     "output_type": "stream",
     "text": [
      "Prior validity experiment begins...\n"
     ]
    },
    {
     "name": "stderr",
     "output_type": "stream",
     "text": [
      "100%|██████████| 1000/1000 [00:35<00:00, 28.28it/s]"
     ]
    },
    {
     "name": "stdout",
     "output_type": "stream",
     "text": [
      "8204\n",
      "1796\n"
     ]
    },
    {
     "name": "stderr",
     "output_type": "stream",
     "text": [
      "\n"
     ]
    }
   ],
   "source": [
    "\n",
    "\n",
    "def prior_validity():\n",
    "    Z_train = latents\n",
    "    Zs_valid = []\n",
    "    Zs_invalid = []\n",
    "    Zs_plus_decode = []\n",
    "    Wrapped_G = []\n",
    "    z_mean, z_std = np.array(Z_train.mean(0)) ,np.array(Z_train.std(0)) \n",
    "    # print(z_mean)\n",
    "    # print(z_std)\n",
    "    z_mean, z_std = torch.FloatTensor(z_mean).to(device), torch.FloatTensor(z_std).to(device)\n",
    "    n_latent_points = 1000\n",
    "    decode_times = 10\n",
    "    n_valid = 0\n",
    "    print('Prior validity experiment begins...')\n",
    "    G = []\n",
    "    G_valid = []\n",
    "    G_train = [g for g in train_data]\n",
    "    pbar = tqdm(range(n_latent_points))\n",
    "    cnt = 0\n",
    "    G_valid = []\n",
    "    G_invalid = []\n",
    "    n_valid = 0\n",
    "    for i in pbar:\n",
    "        cnt += 1\n",
    "        if cnt == args.infer_batch_size or i == n_latent_points - 1:\n",
    "            z = torch.randn(cnt, model.nz).to(model.get_device())\n",
    "        # print(z)\n",
    "            z = z * z_std + z_mean  # move to train's latent range\n",
    "        # print(z)\n",
    "            \n",
    "            # print(z.cpu().detach().numpy())\n",
    "\n",
    "            for j in range(decode_times):\n",
    "                g_batch = model.decode(z)\n",
    "                for ix,g in enumerate(g_batch):\n",
    "                    if is_valid_BN(g, graph_args.START_TYPE, graph_args.END_TYPE,args.nvt):\n",
    "                        n_valid +=1\n",
    "                        G_valid.append(g)\n",
    "                        Wrapped_G.append(GraphWrapper(g))\n",
    "                        Zs_valid.append(z.cpu().detach().numpy()[ix])\n",
    "                    else:\n",
    "                        G_invalid.append(g)\n",
    "                        Zs_invalid.append(z.cpu().detach().numpy()[ix])\n",
    "\n",
    "\n",
    "            cnt = 0\n",
    "    return G_valid, G_invalid, Zs_valid, Zs_invalid, Wrapped_G\n",
    "\n",
    "\n",
    "valid, invalid, Zs_valid, Zs_invalid, Wrapped_G = prior_validity()\n",
    "print(len(valid))\n",
    "print(len(invalid))\n"
   ]
  },
  {
   "cell_type": "code",
   "execution_count": null,
   "metadata": {},
   "outputs": [
    {
     "ename": "",
     "evalue": "",
     "output_type": "error",
     "traceback": [
      "\u001b[1;31mCanceled future for execute_request message before replies were done"
     ]
    },
    {
     "ename": "",
     "evalue": "",
     "output_type": "error",
     "traceback": [
      "\u001b[1;31mThe Kernel crashed while executing code in the the current cell or a previous cell. Please review the code in the cell(s) to identify a possible cause of the failure. Click <a href='https://aka.ms/vscodeJupyterKernelCrash'>here</a> for more info. View Jupyter <a href='command:jupyter.viewOutput'>log</a> for further details."
     ]
    }
   ],
   "source": [
    "import collections\n",
    "hash_indexes =[]\n",
    "for w_g in valid:\n",
    "    h = visualize_util.DAG_hash(w_g)\n",
    "    ix = all_data_hashes[h]\n",
    "    # print(h)\n",
    "    hash_indexes.append(ix)\n",
    "# hashes.append(visualize_util.DAG_hash(valid[0]))"
   ]
  },
  {
   "cell_type": "code",
   "execution_count": null,
   "metadata": {},
   "outputs": [
    {
     "name": "stdout",
     "output_type": "stream",
     "text": [
      "29281\n",
      "30329\n"
     ]
    }
   ],
   "source": [
    "print(len(all_data))\n",
    "print(len(valid))\n",
    "valid_cleaned = valid.copy()\n",
    "for g in all_data_cleaned:\n",
    "    to_delete_ids = [v.index for v in g.vs if v[\"type\"] == 0 or v[\"type\"] == 1]\n",
    "    g.delete_vertices(to_delete_ids)\n",
    "\n",
    "for g in valid_cleaned:\n",
    "    to_delete_ids = [v.index for v in g.vs if v[\"type\"] == 0 or v[\"type\"] == 1]\n",
    "    g.delete_vertices(to_delete_ids)"
   ]
  },
  {
   "cell_type": "code",
   "execution_count": null,
   "metadata": {},
   "outputs": [
    {
     "name": "stdout",
     "output_type": "stream",
     "text": [
      "[[0, 0, 0, 0, 1]\n",
      " [0, 0, 1, 0, 1]\n",
      " [0, 0, 0, 1, 1]\n",
      " [0, 0, 0, 0, 0]\n",
      " [0, 0, 0, 0, 0]]\n",
      "[3, 4, 2, 6, 5]\n",
      "---------\n",
      "2345604000234020\n",
      "<class 'igraph.datatypes.Matrix'>\n"
     ]
    }
   ],
   "source": [
    "# NEM FOG LEFUTNI\n",
    "# from wrapper import GraphWrapper\n",
    "import wrapper\n",
    "importlib.reload(wrapper)\n",
    "# decode_ix = []\n",
    "# for v_ix,v in enumerate(tqdm(valid_cleaned)) :\n",
    "#     for d_ix,d in enumerate(all_data_cleaned):\n",
    "#         if is_same_DAG2(v,d):\n",
    "#             decode_ix.append(d_ix)\n",
    "#             break\n",
    "        \n",
    "# print(len(decode_ix))\n",
    "# print()\n",
    "\n",
    "w_g = wrapper.GraphWrapper(all_data[1]) \n",
    "adj = w_g.graph.get_adjacency()\n",
    "print(adj)\n",
    "print(w_g.graph.vs[\"type\"])\n",
    "print(\"---------\")\n",
    "print(w_g.__hash__())\n",
    "print(type(adj))\n",
    "\n"
   ]
  },
  {
   "cell_type": "code",
   "execution_count": null,
   "metadata": {},
   "outputs": [
    {
     "name": "stdout",
     "output_type": "stream",
     "text": [
      "[[0, 0, 0, 0, 1]\n",
      " [0, 0, 1, 0, 1]\n",
      " [0, 0, 0, 1, 1]\n",
      " [0, 0, 0, 0, 0]\n",
      " [0, 0, 0, 0, 0]]\n",
      "[{3: 0, 4: 1}, {2: 2}, {5: 4, 6: 3}]\n",
      "[[0 0 0 0 1]\n",
      " [0 0 1 0 1]\n",
      " [0 0 0 1 1]\n",
      " [0 0 0 0 0]\n",
      " [0 0 0 0 0]]\n",
      "------\n",
      "[0, 0, 0, 0, 0, 0, 0, 0, 0, 0, 0, 1, 0, 0, 0, 1, 1, 1, 0, 0, 0, 0, 1, 0, 0]\n",
      "2345604000234020\n"
     ]
    }
   ],
   "source": [
    "print(adj)\n",
    "n = w_g.graph\n",
    "# print(n)\n",
    "arr = [a for a in adj]\n",
    "# print(arr)\n",
    "n = np.array(arr)\n",
    "\n",
    "\n",
    "\n",
    "\n",
    "n_c = []\n",
    "c_c = {}\n",
    "adj = w_g.graph.get_adjacency()\n",
    "for i_l,l in enumerate(adj[:]):\n",
    "    if len(c_c) == 0:\n",
    "            c_c[w_g.graph.vs[\"type\"][i_l]] = i_l\n",
    "    if i_l != adj.shape[0]-1 and l[i_l+1] == 0:\n",
    "        c_c[w_g.graph.vs[\"type\"][i_l+1]] = i_l+1\n",
    "    else:\n",
    "        n_c.append(c_c)\n",
    "        c_c = {}\n",
    "\n",
    "e_c = []\n",
    "for n in n_c:\n",
    "    x = dict(sorted(n.items()))\n",
    "    e_c.append(x)\n",
    "\n",
    "res = []\n",
    "\n",
    "print(e_c)\n",
    "\n",
    "\n",
    "res = [adj[s_e] for e in e_c for s_e in e.values()]\n",
    "r_n = np.array(res)\n",
    "print(r_n)\n",
    "print(\"------\")\n",
    "f_r = [r_n[:,s_e] for e in e_c for s_e in e.values()]\n",
    "flat_list = [item for sublist in f_r for item in sublist]\n",
    "print(flat_list)\n",
    "res_labels = [s_e for e in e_c for s_e in e.keys()]\n",
    "print(w_g.__hash__())\n"
   ]
  },
  {
   "cell_type": "code",
   "execution_count": null,
   "metadata": {},
   "outputs": [],
   "source": [
    "counter = collections.Counter(hashes)\n",
    "c_values = list(counter.values())\n",
    "\n",
    "# print(c_values)"
   ]
  },
  {
   "cell_type": "code",
   "execution_count": null,
   "metadata": {},
   "outputs": [
    {
     "name": "stdout",
     "output_type": "stream",
     "text": [
      "1\n",
      "<wrapper.GraphWrapper object at 0x7f123bf43ca0>\n"
     ]
    }
   ],
   "source": [
    "print(np.max(c_values))\n",
    "print(hashes[0])"
   ]
  },
  {
   "cell_type": "code",
   "execution_count": null,
   "metadata": {},
   "outputs": [
    {
     "ename": "NameError",
     "evalue": "name 'Wrapped_G' is not defined",
     "output_type": "error",
     "traceback": [
      "\u001b[0;31m---------------------------------------------------------------------------\u001b[0m",
      "\u001b[0;31mNameError\u001b[0m                                 Traceback (most recent call last)",
      "Cell \u001b[0;32mIn [4], line 3\u001b[0m\n\u001b[1;32m      1\u001b[0m \u001b[39mimport\u001b[39;00m \u001b[39mcollections\u001b[39;00m\n\u001b[1;32m      2\u001b[0m hashes \u001b[39m=\u001b[39m []\n\u001b[0;32m----> 3\u001b[0m \u001b[39mfor\u001b[39;00m w_g \u001b[39min\u001b[39;00m Wrapped_G:\n\u001b[1;32m      4\u001b[0m     to_append \u001b[39m=\u001b[39m w_g\u001b[39m.\u001b[39m\u001b[39m__hash__\u001b[39m()\n\u001b[1;32m      5\u001b[0m     hashes\u001b[39m.\u001b[39mappend(to_append)\n",
      "\u001b[0;31mNameError\u001b[0m: name 'Wrapped_G' is not defined"
     ]
    }
   ],
   "source": [
    "# import collections\n",
    "# hashes = []\n",
    "# for w_g in Wrapped_G:\n",
    "#     to_append = w_g.__hash__()\n",
    "#     hashes.append(to_append)\n",
    "\n",
    "# counter = collections.Counter(hashes)\n",
    "# c_values = list(counter.values())\n",
    "# # print(c_values)\n",
    "# print(len(c_values))\n",
    "# print(np.max(c_values))\n",
    "# plt.bar([i for i in range(len(c_values))], c_values)\n",
    "# plt.show()"
   ]
  },
  {
   "cell_type": "code",
   "execution_count": null,
   "metadata": {},
   "outputs": [
    {
     "ename": "NameError",
     "evalue": "name 'hashes' is not defined",
     "output_type": "error",
     "traceback": [
      "\u001b[0;31m---------------------------------------------------------------------------\u001b[0m",
      "\u001b[0;31mNameError\u001b[0m                                 Traceback (most recent call last)",
      "Cell \u001b[0;32mIn [4], line 1\u001b[0m\n\u001b[0;32m----> 1\u001b[0m \u001b[39mprint\u001b[39m(\u001b[39mtype\u001b[39m(hashes[\u001b[39m0\u001b[39m]))\n\u001b[1;32m      2\u001b[0m \u001b[39m# print(hashes)\u001b[39;00m\n\u001b[1;32m      3\u001b[0m \u001b[39mprint\u001b[39m(\u001b[39mlen\u001b[39m(hashes))\n",
      "\u001b[0;31mNameError\u001b[0m: name 'hashes' is not defined"
     ]
    }
   ],
   "source": []
  },
  {
   "cell_type": "code",
   "execution_count": null,
   "metadata": {},
   "outputs": [
    {
     "name": "stdout",
     "output_type": "stream",
     "text": [
      "44817\n"
     ]
    },
    {
     "data": {
      "image/png": "[encoded data removed]",
      "text/plain": [
       "<Figure size 640x480 with 1 Axes>"
      ]
     },
     "metadata": {},
     "output_type": "display_data"
    }
   ],
   "source": [
    "mapped_hashes = [ all_data_hashes[h] if h in all_data_hashes else len(all_data_cleaned) for h in hashes]\n",
    "print(len(mapped_hashes))\n",
    "counter = collections.Counter(mapped_hashes)\n",
    "c_values = list(counter.values())\n",
    "plt.bar([i for i in range(len(c_values))], c_values)\n",
    "plt.show()\n",
    "print(c_values)"
   ]
  },
  {
   "cell_type": "code",
   "execution_count": null,
   "metadata": {},
   "outputs": [],
   "source": [
    "# print(all_data_hashes)"
   ]
  },
  {
   "cell_type": "code",
   "execution_count": null,
   "metadata": {},
   "outputs": [
    {
     "data": {
      "image/png": "[encoded data removed]",
      "text/plain": [
       "<Figure size 640x480 with 1 Axes>"
      ]
     },
     "metadata": {},
     "output_type": "display_data"
    }
   ],
   "source": [
    "hist1 = np.histogram(mapped_hashes,bins = len(all_data_cleaned))\n",
    "plt.bar([i for i in range(len(hist1[0]))], hist1[0])\n",
    "fig_name = os.path.join(vis_path, \"frequencies\")\n",
    "plt.savefig(fig_name,bbox_inches='tight', facecolor=(1, 1, 1))\n",
    "plt.show()\n"
   ]
  },
  {
   "cell_type": "code",
   "execution_count": null,
   "metadata": {},
   "outputs": [
    {
     "name": "stdout",
     "output_type": "stream",
     "text": [
      "[615 402 210 ...   0   0   3]\n",
      "29281\n"
     ]
    }
   ],
   "source": [
    "print(hist1[0])\n",
    "print(len(hist1[0]))\n"
   ]
  },
  {
   "cell_type": "code",
   "execution_count": null,
   "metadata": {},
   "outputs": [
    {
     "name": "stdout",
     "output_type": "stream",
     "text": [
      "(array([44537,    57,     2,   102,     6,     2,    74,     1,     8,\n",
      "          28]), array([2.34560000e+04, 1.26484543e+11, 2.52969063e+11, 3.79453583e+11,\n",
      "       5.05938103e+11, 6.32422623e+11, 7.58907143e+11, 8.85391663e+11,\n",
      "       1.01187618e+12, 1.13836070e+12, 1.26484522e+12]))\n"
     ]
    }
   ],
   "source": [
    "print(hist1)\n"
   ]
  },
  {
   "cell_type": "code",
   "execution_count": null,
   "metadata": {},
   "outputs": [
    {
     "name": "stdout",
     "output_type": "stream",
     "text": [
      "Mean: 1.3934902148297414\n",
      "Median: 0.0\n",
      "Std: 4.612575154823718\n",
      "Max: 130\n",
      "Max index: 29280\n",
      "Distance from uniform distribution: 269.455114682544\n",
      "Uni to Uni: 0.8632218844984819\n"
     ]
    }
   ],
   "source": [
    "uni = np.random.randint(0,542,len(all_data))\n",
    "uni2 = np.random.randint(0,542,len(all_data))\n",
    "m_mean =np.mean(hist1[0][:-2])\n",
    "m_median =np.median(hist1[0][:-2])\n",
    "m_std = np.std(hist1[0][:-2])\n",
    "m_max = np.max(hist1[0][:-2])\n",
    "m_max_ix = np.argmax(hist1[0])\n",
    "m_wasser = wasserstein_distance(uni,hist1[0][:-2])\n",
    "print(\"Mean: \" + str(m_mean))\n",
    "print(\"Median: \" + str(m_median))\n",
    "print(\"Std: \" + str(m_std))\n",
    "print(\"Max: \" + str(m_max))\n",
    "print(\"Max index: \" + str(m_max_ix))\n",
    "print(\"Distance from uniform distribution: \" + str(m_wasser))\n",
    "print(\"Uni to Uni: \" + str(wasserstein_distance(uni,uni2)))\n",
    "dir_name = Path(p).parent.name\n",
    "\n",
    "# csv_file_path = \"s2.csv\"\n",
    "with open(csv_file_path, 'a+', newline='') as csv_file:\n",
    "    writer = csv.writer(csv_file, delimiter = ';' )\n",
    "    writer.writerow([dir_name,args.model, last_epoch[0], args.nz, args.hs,  args.beta,m_mean, m_median, m_std,m_max, m_wasser, len(valid)])\n",
    "\n"
   ]
  },
  {
   "cell_type": "code",
   "execution_count": null,
   "metadata": {},
   "outputs": [
    {
     "name": "stdout",
     "output_type": "stream",
     "text": [
      "29281\n"
     ]
    },
    {
     "data": {
      "text/plain": [
       "<BarContainer object of 543 artists>"
      ]
     },
     "execution_count": 168,
     "metadata": {},
     "output_type": "execute_result"
    },
    {
     "data": {
      "image/png": "[encoded data removed]",
      "text/plain": [
       "<Figure size 640x480 with 1 Axes>"
      ]
     },
     "metadata": {},
     "output_type": "display_data"
    }
   ],
   "source": [
    "# print(uni)\n",
    "print(len(uni))\n",
    "hist2 = np.histogram(uni, bins=543)\n",
    "plt.bar([i for i in range(len(hist2[0]))], hist2[0])"
   ]
  },
  {
   "cell_type": "code",
   "execution_count": null,
   "metadata": {},
   "outputs": [
    {
     "ename": "NameError",
     "evalue": "name 'decode_ix' is not defined",
     "output_type": "error",
     "traceback": [
      "\u001b[0;31m---------------------------------------------------------------------------\u001b[0m",
      "\u001b[0;31mNameError\u001b[0m                                 Traceback (most recent call last)",
      "Cell \u001b[0;32mIn [169], line 2\u001b[0m\n\u001b[1;32m      1\u001b[0m \u001b[39mfrom\u001b[39;00m \u001b[39mscipy\u001b[39;00m \u001b[39mimport\u001b[39;00m stats\n\u001b[0;32m----> 2\u001b[0m \u001b[39mprint\u001b[39m(stats\u001b[39m.\u001b[39mmode(decode_ix))\n",
      "\u001b[0;31mNameError\u001b[0m: name 'decode_ix' is not defined"
     ]
    }
   ],
   "source": [
    "from scipy import stats\n",
    "print(stats.mode(decode_ix))"
   ]
  },
  {
   "cell_type": "code",
   "execution_count": null,
   "metadata": {},
   "outputs": [],
   "source": [
    "test_g = all_data[0]\n",
    "print(test_g)\n",
    "print(test_g.get_adjacency())\n",
    "flat_list = [item for sublist in test_g.get_adjacency()[1:] for item in sublist[:-1]]\n",
    "print(flat_list)\n",
    "print(len(flat_list))\n",
    "print(test_g.vs[\"type\"])\n",
    "hash_list = flat_list + test_g.vs[\"type\"]\n",
    "print(hash_list)\n",
    "hash_list_str = ''.join(map(str,hash_list))\n",
    "print(int(hash_list_str))"
   ]
  },
  {
   "cell_type": "code",
   "execution_count": null,
   "metadata": {},
   "outputs": [],
   "source": [
    "Zs_valid = np.array(Zs_valid)\n",
    "print(Zs_valid.shape)\n",
    "\n",
    "pca = PCA(n_components=2)\n",
    "sampled_components = pca.fit_transform(Zs_valid)\n",
    "# plt.scatter(components[:,0], components[:,1], c=extended[:,6])\n",
    "\n",
    "plt.scatter(sampled_components[:,0], sampled_components[:,1], c=decode_ix)\n",
    "fig_name = os.path.join(vis_path, \"sampled\")\n",
    "plt.savefig(fig_name,bbox_inches='tight', facecolor=(1, 1, 1))\n",
    "\n",
    "# plt.scatter(Zs_valid[:,0], Zs_valid[:,1], c=decode_ix)"
   ]
  },
  {
   "cell_type": "code",
   "execution_count": null,
   "metadata": {},
   "outputs": [],
   "source": [
    "most_common = counter.most_common(1)[0][0]\n",
    "print(most_common)\n",
    "\n",
    "to_print = [ix for ix in range(len(decode_ix)) if decode_ix[ix] == most_common]\n",
    "print(len(to_print))\n",
    "Zs_valid_filtered = [Zs_valid[x] for x in range(len(Zs_valid)) if x in to_print]\n",
    "print(len(Zs_valid_filtered))\n",
    "Zs_valid_filtered = np.array(Zs_valid_filtered)\n",
    "plt.scatter(Zs_valid_filtered[:,0], Zs_valid_filtered[:,1])"
   ]
  },
  {
   "cell_type": "code",
   "execution_count": null,
   "metadata": {},
   "outputs": [],
   "source": [
    "Zs_invalid = np.array(Zs_invalid)\n",
    "print(Zs_invalid.shape)\n",
    "plt.scatter(Zs_invalid[:,0], Zs_invalid[:,1])"
   ]
  }
 ],
 "metadata": {
  "kernelspec": {
   "display_name": "base",
   "language": "python",
   "name": "python3"
  },
  "language_info": {
   "codemirror_mode": {
    "name": "ipython",
    "version": 3
   },
   "file_extension": ".py",
   "mimetype": "text/x-python",
   "name": "python",
   "nbconvert_exporter": "python",
   "pygments_lexer": "ipython3",
   "version": "3.8.5"
  },
  "orig_nbformat": 4,
  "vscode": {
   "interpreter": {
    "hash": "f6d90665ba09a631d2e0788064413436ce8633529c567dccb74c1cf82e75b6a7"
   }
  }
 },
 "nbformat": 4,
 "nbformat_minor": 2
}
