{
 "cells": [
  {
   "cell_type": "code",
   "execution_count": 1,
   "metadata": {},
   "outputs": [],
   "source": [
    "from __future__ import print_function\n",
    "import os\n",
    "import sys\n",
    "import math\n",
    "import pickle\n",
    "import pdb\n",
    "import argparse\n",
    "import random\n",
    "from tqdm import tqdm\n",
    "from shutil import copy\n",
    "import torch\n",
    "from torch import nn, optim\n",
    "from torch.optim.lr_scheduler import ReduceLROnPlateau\n",
    "import numpy as np\n",
    "from scipy.linalg import qr \n",
    "import igraph as ig\n",
    "from random import shuffle\n",
    "import matplotlib\n",
    "import matplotlib.pyplot as plt\n",
    "import matplotlib.image as mpimg\n",
    "from util import *\n",
    "from modelsRIGHT import *\n",
    "from igraph import *\n",
    "import networkx as nx\n",
    "from collections import Counter\n",
    "import importlib\n",
    "from sklearn.decomposition import PCA\n",
    "from dotmap import DotMap\n",
    "import pandas as pd\n",
    "import json\n",
    "from scipy.stats import wasserstein_distance\n",
    "import csv\n",
    "from pathlib import Path\n",
    "import re\n",
    "import visualize_util\n",
    "from visualize_util import *\n",
    "\n",
    "p = os.path.join(\"vertex_5_7dim_latent_KL0.01_DVAE_NOBATCHNORM_ROW_hs256_batchsize64\",\"final_structures6_4\")\n",
    "vis_path = os.path.join(p, \"evaluation\")\n",
    "csv_file_path = \"summary.csv\"\n",
    "if( not os.path.exists(vis_path)):\n",
    "    os.makedirs(vis_path)\n",
    "argsFile = os.path.join(p,\"cmd_input.txt\")\n",
    "with open(argsFile) as f:\n",
    "    argsJSON = json.load(f)\n",
    "args = DotMap(argsJSON)\n",
    "\n"
   ]
  },
  {
   "cell_type": "code",
   "execution_count": 2,
   "metadata": {},
   "outputs": [],
   "source": [
    "# df = pd.read_csv(\"vertex_4_2dim_latent_batchnorm2\\\\final_structures6\\\\train_loss.txt\", sep= \" \")\n",
    "# df2 = pd.read_csv(\"vertex_4_4dim_latent\\\\final_structures6\\\\train_loss.txt\", sep= \" \")\n",
    "# df3 = pd.read_csv(\"train_lossBIG.txt\", sep= \" \")\n",
    "# df4 = pd.read_csv(\"vertex_4_2dimLatent_new\\\\final_structures6\\\\train_loss.txt\", sep= \" \")\n",
    "df5 = pd.read_csv(os.path.join(p,\"train_loss.txt\"), sep= \" \")\n",
    "\n",
    "ix=df5.iloc[:,[0,2]].sum(1).idxmin()\n",
    "# print(ix)\n",
    "# print(df5.iloc[[300]])\n"
   ]
  },
  {
   "cell_type": "code",
   "execution_count": 3,
   "metadata": {},
   "outputs": [
    {
     "data": {
      "text/plain": [
       "<Figure size 640x480 with 0 Axes>"
      ]
     },
     "metadata": {},
     "output_type": "display_data"
    },
    {
     "data": {
      "image/png": "[encoded data removed]",
      "text/plain": [
       "<Figure size 640x480 with 1 Axes>"
      ]
     },
     "metadata": {},
     "output_type": "display_data"
    }
   ],
   "source": [
    "plt.figure(dpi = 100)\n",
    "fig1, ax1 = plt.subplots()\n",
    "ax1.plot(df5.iloc[:,3], label='Validation')\n",
    "ax1.plot(df5.iloc[:,0], label='Train')\n",
    "ax1.plot(df5.iloc[:,4], label='Test')\n",
    "ax1.get_yaxis().set_major_formatter(matplotlib.ticker.ScalarFormatter())\n",
    "ax1.set_yscale('log')\n",
    "ax1.set_ylabel('Loss')\n",
    "ax1.set_xlabel('Epoch')\n",
    "\n",
    "\n",
    "ax1.legend()\n",
    "ax1.set_yticks([10,5,4,3,2,1])\n",
    "ax1.set_yticklabels([10,5,4,3,2,1])\n",
    "ax1.get_yaxis().get_major_formatter().labelOnlyBase = False\n",
    "# plt.plot(df3.iloc[:2949,4], label='Total')"
   ]
  },
  {
   "cell_type": "code",
   "execution_count": 4,
   "metadata": {},
   "outputs": [
    {
     "name": "stdout",
     "output_type": "stream",
     "text": [
      "1\n",
      "DotMap(data_type='BN', data_name='final_structures6', nvt=7, max_n=7, save_appendix='', save_interval=1, sample_number=20, no_test=False, reprocess=False, keep_old=False, only_test=False, small_train=False, model='DVAE_NOBATCHNORM_ROW', hs=256, nz=7, beta=0.01, save_start=0, early_stop_patience=50, lr=0.0001, epochs=3000, batch_size=64, load_latest_model=False, continue_from=None, bidirectional=False, infer_batch_size=32, no_cuda=False, all_gpus=False, seed=1, cuda=True, file_dir='/home/banfizsombor/D-VAE', res_dir='/home/banfizsombor/D-VAE/vertex_5_7dim_latent_KL0.01_DVAE_NOBATCHNORM_ROW_hs256_batchsize64/final_structures6_4', scheduler_dir='/home/banfizsombor/D-VAE/vertex_5_7dim_latent_KL0.01_DVAE_NOBATCHNORM_ROW_hs256_batchsize64/final_structures6_4/scheduler', optimizer_dir='/home/banfizsombor/D-VAE/vertex_5_7dim_latent_KL0.01_DVAE_NOBATCHNORM_ROW_hs256_batchsize64/final_structures6_4/optimizer', model_dir='/home/banfizsombor/D-VAE/vertex_5_7dim_latent_KL0.01_DVAE_NOBATCHNORM_ROW_hs256_batchsize64/final_structures6_4/model', latent_dir='/home/banfizsombor/D-VAE/vertex_5_7dim_latent_KL0.01_DVAE_NOBATCHNORM_ROW_hs256_batchsize64/final_structures6_4/latent', fig_dir='/home/banfizsombor/D-VAE/vertex_5_7dim_latent_KL0.01_DVAE_NOBATCHNORM_ROW_hs256_batchsize64/final_structures6_4/figures')\n",
      "<class 'int'>\n",
      "cuda:0\n"
     ]
    }
   ],
   "source": [
    "\n",
    "print(args.seed)\n",
    "print(args)\n",
    "print(type(args.seed))\n",
    "args.cuda = not args.no_cuda and torch.cuda.is_available()\n",
    "torch.manual_seed(args.seed)\n",
    "if args.cuda:\n",
    "    torch.cuda.manual_seed(args.seed)\n",
    "    device = torch.device(\"cuda:0\")\n",
    "else:\n",
    "    device = torch.device(\"cpu\")\n",
    "np.random.seed(args.seed)\n",
    "random.seed(args.seed)\n",
    "print(device)\n"
   ]
  },
  {
   "cell_type": "code",
   "execution_count": 5,
   "metadata": {},
   "outputs": [
    {
     "name": "stdout",
     "output_type": "stream",
     "text": [
      "cuda:0\n",
      "DotMap(max_n=7, num_vertex_type=7, START_TYPE=0, END_TYPE=1)\n"
     ]
    }
   ],
   "source": [
    "graph_args = DotMap()\n",
    "graph_args.max_n = args.nvt\n",
    "graph_args.num_vertex_type = args.max_n\n",
    "graph_args.START_TYPE = 0\n",
    "graph_args.END_TYPE = 1\n",
    "model = eval(args.model)(\n",
    "        graph_args.max_n, \n",
    "        graph_args.num_vertex_type, \n",
    "        graph_args.START_TYPE, \n",
    "        graph_args.END_TYPE, \n",
    "        hs=args.hs, \n",
    "        nz=args.nz, \n",
    "        bidirectional=args.bidirectional        )\n",
    "model.device = device\n",
    "model = model.to(device)\n",
    "print(model.get_device())\n",
    "optimizer = optim.Adam(model.parameters(), lr=args.lr)\n",
    "scheduler = ReduceLROnPlateau(optimizer, 'min', factor=0.1, patience=10, verbose=True)\n",
    "print(graph_args)"
   ]
  },
  {
   "cell_type": "code",
   "execution_count": 6,
   "metadata": {},
   "outputs": [
    {
     "name": "stderr",
     "output_type": "stream",
     "text": [
      "100%|██████████| 29281/29281 [00:06<00:00, 4392.85it/s]"
     ]
    },
    {
     "name": "stdout",
     "output_type": "stream",
     "text": [
      "[0, 2, 3, 4, 5, 6, 1]\n",
      "29281\n"
     ]
    },
    {
     "name": "stderr",
     "output_type": "stream",
     "text": [
      "\n"
     ]
    }
   ],
   "source": [
    "all_data = []\n",
    "all_data_cleaned = []\n",
    "train_data = []\n",
    "test_data = []\n",
    "graph_path = os.path.join(\"..\", \"graph_data\", \"vertex_5\")\n",
    "for ix,filename in enumerate(tqdm(os.listdir(graph_path))):\n",
    "    path = os.path.join(graph_path, filename)\n",
    "    with open(path, 'rb') as pickle_file:\n",
    "        # Load file\n",
    "        graph = pickle.load(pickle_file)\n",
    "        edge_list = graph.get_edgelist()\n",
    "        # Create new graph\n",
    "        graph2 = ig.Graph(directed=True)\n",
    "        graph2.add_vertices(args.max_n)\n",
    "        # Copy vertices to new graph\n",
    "        for vs_i in range(len(graph.vs)):\n",
    "            graph2.vs[vs_i+1]['type'] =  graph.vs[vs_i]['_nx_name']+2\n",
    "        # Copy edges to new graph\n",
    "        for edge_pair in edge_list:\n",
    "            p1 = edge_pair[0]\n",
    "            p2 = edge_pair[1]\n",
    "            graph2.add_edge(p1+1,p2+1)\n",
    "        # Set vertex attributes\n",
    "        graph2.vs[0]['type'] = graph_args.START_TYPE\n",
    "        graph2.vs[args.max_n-1]['type'] = graph_args.END_TYPE\n",
    "        # graph2.add_edge(0,1)\n",
    "        # graph2.add_edge(4,5)\n",
    "\n",
    "        for vs_i,vs in enumerate(graph2.vs[1:-1]):\n",
    "            if(len(vs.in_edges()) == 0):\n",
    "                graph2.add_edge(0, vs_i+1)\n",
    "            if(len(vs.out_edges()) == 0):\n",
    "                graph2.add_edge(vs_i+1, len(graph2.vs)-1)\n",
    "        all_data.append(graph2)\n",
    "        all_data_cleaned.append(graph2)\n",
    "\n",
    "print(all_data[0].vs[\"type\"])\n",
    "# print(all_data[1].vs[\"type\"])\n",
    "print(len(all_data))\n",
    "\n"
   ]
  },
  {
   "cell_type": "code",
   "execution_count": 7,
   "metadata": {},
   "outputs": [
    {
     "name": "stdout",
     "output_type": "stream",
     "text": [
      "vertex_5_7dim_latent_KL1_DVAE_NOBATCHNORM_hs128_batchsize128\\final_structures6_1\\model\n",
      "vertex_5_7dim_latent_KL1_DVAE_NOBATCHNORM_hs128_batchsize128\\final_structures6_1\\model\\model_checkpoint90.pth\n",
      "model_checkpoint90.pth\n",
      "90\n"
     ]
    }
   ],
   "source": [
    "\n",
    "model_dir = os.path.join(p, \"model\")\n",
    "print(model_dir)\n",
    "files = [os.path.join(model_dir, file) for file in os.listdir(model_dir)]\n",
    "latest_checkpoint = max(files, key= os.path.getctime)\n",
    "print(latest_checkpoint)\n",
    "latest_checkpoint_filename = Path(latest_checkpoint).name\n",
    "print(latest_checkpoint_filename)\n",
    "last_epoch = re.findall(r'\\d+', latest_checkpoint_filename)\n",
    "print(last_epoch[0])\n",
    "\n",
    "# q = 563\n",
    "# latest_checkpoint = os.path.join(model_dir,\"model_checkpoint\"+str(q)+\".pth\")\n",
    "# print(latest_checkpoint)\n",
    "load_module_state(model,latest_checkpoint)\n",
    "\n"
   ]
  },
  {
   "cell_type": "code",
   "execution_count": 8,
   "metadata": {},
   "outputs": [
    {
     "name": "stderr",
     "output_type": "stream",
     "text": [
      "  0%|          | 0/29281 [00:00<?, ?it/s]"
     ]
    },
    {
     "name": "stdout",
     "output_type": "stream",
     "text": [
      "(1, 1, 7)\n"
     ]
    },
    {
     "name": "stderr",
     "output_type": "stream",
     "text": [
      "\n"
     ]
    }
   ],
   "source": [
    "# ENCODE ALL DATA\n",
    "\n",
    "importlib.reload(visualize_util)\n",
    "\n",
    "latents = []\n",
    "extended = []\n",
    "min_mu = 2\n",
    "max_mu = -1\n",
    "min_g = None\n",
    "max_g = None\n",
    "percect_recon = 0\n",
    "i = 0\n",
    "for data in tqdm(all_data):\n",
    "    mu, logvar = model.encode(data)\n",
    "    z = model.reparameterize(mu,logvar)\n",
    "    # g_recon = model.decode(z)\n",
    "\n",
    "    # h1 = visualize_util.DAG_hash(data)\n",
    "    # for g_r in g_recon:\n",
    "    #     h2 = visualize_util.DAG_hash(g_r)\n",
    "    #     if h1 == h2:\n",
    "    #         percect_recon+=1\n",
    "    #         break\n",
    "    mu = mu.cpu().detach().numpy()\n",
    "\n",
    "    latents.append(mu)\n",
    "    null_edges = data.neighbors(0, 'out')\n",
    "    # print(data.vcount())\n",
    "    end_edges = data.neighbors(args.max_n-1, 'in')\n",
    "    max_degree = np.max(data.vs.degree())\n",
    "    in_degree = np.max(data.vs.indegree())\n",
    "    out_degree = np.max(data.vs.outdegree())\n",
    "    zero_pred =  len([ix for ix in range(data.vcount()) if  data.neighbors(ix, \"in\") == [0]])    \n",
    "    zero_succ = len([ix for ix in range(data.vcount()) if  data.neighbors(ix, \"out\") == [args.max_n-1]])\n",
    "    \n",
    "    minus_edges = len(null_edges) + len(end_edges)\n",
    "    mu  = np.append(mu, data.ecount()- minus_edges)\n",
    "    mu  = np.append(mu, max_degree)\n",
    "    mu  = np.append(mu, in_degree)\n",
    "    mu  = np.append(mu, out_degree)\n",
    "    mu  = np.append(mu, zero_pred)\n",
    "    mu  = np.append(mu, zero_succ)\n",
    "    if i <= 10:\n",
    "        break\n",
    "    i+=1\n",
    "\n",
    "\n",
    "\n",
    "\n",
    "    \n",
    "    extended.append(mu)\n",
    "\n",
    "latents = np.array(latents)\n",
    "extended = np.array(extended)\n",
    "print(latents.shape)\n",
    "# print(latents)"
   ]
  },
  {
   "cell_type": "code",
   "execution_count": 9,
   "metadata": {},
   "outputs": [
    {
     "name": "stdout",
     "output_type": "stream",
     "text": [
      "Z_mean: [[ 1.1199911  -0.15352523 -1.424426    0.43807188 -2.2527416   0.7325045\n",
      "   0.01975622]]\n",
      "Z_std: [[0. 0. 0. 0. 0. 0. 0.]]\n",
      "Z norm: 3.0183845\n"
     ]
    }
   ],
   "source": [
    "print(\"Z_mean: \" + str(latents.mean(0)))\n",
    "print(\"Z_std: \" + str(latents.std(0)))\n",
    "print(\"Z norm: \" + str(np.linalg.norm(latents)))"
   ]
  },
  {
   "cell_type": "code",
   "execution_count": 10,
   "metadata": {},
   "outputs": [
    {
     "ename": "",
     "evalue": "",
     "output_type": "error",
     "traceback": [
      "\u001b[1;31mCanceled future for execute_request message before replies were done"
     ]
    },
    {
     "ename": "",
     "evalue": "",
     "output_type": "error",
     "traceback": [
      "\u001b[1;31mThe Kernel crashed while executing code in the the current cell or a previous cell. Please review the code in the cell(s) to identify a possible cause of the failure. Click <a href='https://aka.ms/vscodeJupyterKernelCrash'>here</a> for more info. View Jupyter <a href='command:jupyter.viewOutput'>log</a> for further details."
     ]
    }
   ],
   "source": [
    "# TODO\n",
    "# Hash all_data, create {hash, index} map, map hashes, create array from indexes, np hist\n",
    "all_data_hashes = {}\n",
    "for ix,a in enumerate(all_data_cleaned):\n",
    "    g_a_hash = visualize_util.DAG_hash(a)\n",
    "    all_data_hashes[g_a_hash] = ix\n",
    "\n",
    "print(len(all_data_hashes))"
   ]
  },
  {
   "cell_type": "code",
   "execution_count": null,
   "metadata": {},
   "outputs": [
    {
     "ename": "ValueError",
     "evalue": "cannot reshape array of size 7 into shape (29281,7)",
     "output_type": "error",
     "traceback": [
      "\u001b[0;31m---------------------------------------------------------------------------\u001b[0m",
      "\u001b[0;31mValueError\u001b[0m                                Traceback (most recent call last)",
      "Cell \u001b[0;32mIn [10], line 1\u001b[0m\n\u001b[0;32m----> 1\u001b[0m a \u001b[39m=\u001b[39m latents\u001b[39m.\u001b[39;49mreshape((\u001b[39mlen\u001b[39;49m(all_data),args\u001b[39m.\u001b[39;49mnz))\n\u001b[1;32m      2\u001b[0m pca \u001b[39m=\u001b[39m PCA(n_components\u001b[39m=\u001b[39m\u001b[39m2\u001b[39m)\n\u001b[1;32m      3\u001b[0m components \u001b[39m=\u001b[39m pca\u001b[39m.\u001b[39mfit_transform(a)\n",
      "\u001b[0;31mValueError\u001b[0m: cannot reshape array of size 7 into shape (29281,7)"
     ]
    }
   ],
   "source": [
    "a = latents.reshape((len(all_data),args.nz))\n",
    "pca = PCA(n_components=2)\n",
    "components = pca.fit_transform(a)\n",
    "print(type(components))\n",
    "\n",
    "fig, ax = plt.subplots(facecolor=(1, 1, 1))\n",
    "scatter = ax.scatter(components[:,0], components[:,1], c=extended[:,args.nz])\n",
    "\n",
    "legend1 = ax.legend(*scatter.legend_elements(),\n",
    "                    loc=\"upper left\",bbox_to_anchor=(1.04, 1))\n",
    "ax.add_artist(legend1)\n",
    "fig_name = os.path.join(vis_path, \"all_data_encoded\")\n",
    "fig.savefig(fig_name,bbox_inches='tight')\n",
    "plt.show()\n",
    "\n"
   ]
  },
  {
   "cell_type": "code",
   "execution_count": 37,
   "metadata": {},
   "outputs": [
    {
     "name": "stdout",
     "output_type": "stream",
     "text": [
      "Prior validity experiment begins...\n"
     ]
    },
    {
     "name": "stderr",
     "output_type": "stream",
     "text": [
      "100%|██████████| 1000/1000 [00:35<00:00, 28.28it/s]"
     ]
    },
    {
     "name": "stdout",
     "output_type": "stream",
     "text": [
      "8204\n",
      "1796\n"
     ]
    },
    {
     "name": "stderr",
     "output_type": "stream",
     "text": [
      "\n"
     ]
    }
   ],
   "source": [
    "\n",
    "\n",
    "def prior_validity():\n",
    "    Z_train = latents\n",
    "    Zs_valid = []\n",
    "    Zs_invalid = []\n",
    "    Zs_plus_decode = []\n",
    "    Wrapped_G = []\n",
    "    z_mean, z_std = np.array(Z_train.mean(0)) ,np.array(Z_train.std(0)) \n",
    "    # print(z_mean)\n",
    "    # print(z_std)\n",
    "    z_mean, z_std = torch.FloatTensor(z_mean).to(device), torch.FloatTensor(z_std).to(device)\n",
    "    n_latent_points = 1000\n",
    "    decode_times = 10\n",
    "    n_valid = 0\n",
    "    print('Prior validity experiment begins...')\n",
    "    G = []\n",
    "    G_valid = []\n",
    "    G_train = [g for g in train_data]\n",
    "    pbar = tqdm(range(n_latent_points))\n",
    "    cnt = 0\n",
    "    G_valid = []\n",
    "    G_invalid = []\n",
    "    n_valid = 0\n",
    "    for i in pbar:\n",
    "        cnt += 1\n",
    "        if cnt == args.infer_batch_size or i == n_latent_points - 1:\n",
    "            z = torch.randn(cnt, model.nz).to(model.get_device())\n",
    "        # print(z)\n",
    "            z = z * z_std + z_mean  # move to train's latent range\n",
    "        # print(z)\n",
    "            \n",
    "            # print(z.cpu().detach().numpy())\n",
    "\n",
    "            for j in range(decode_times):\n",
    "                g_batch = model.decode(z)\n",
    "                for ix,g in enumerate(g_batch):\n",
    "                    if is_valid_BN(g, graph_args.START_TYPE, graph_args.END_TYPE,args.nvt):\n",
    "                        n_valid +=1\n",
    "                        G_valid.append(g)\n",
    "                        Wrapped_G.append(GraphWrapper(g))\n",
    "                        Zs_valid.append(z.cpu().detach().numpy()[ix])\n",
    "                    else:\n",
    "                        G_invalid.append(g)\n",
    "                        Zs_invalid.append(z.cpu().detach().numpy()[ix])\n",
    "\n",
    "\n",
    "            cnt = 0\n",
    "    return G_valid, G_invalid, Zs_valid, Zs_invalid, Wrapped_G\n",
    "\n",
    "\n",
    "valid, invalid, Zs_valid, Zs_invalid, Wrapped_G = prior_validity()\n",
    "print(len(valid))\n",
    "print(len(invalid))\n"
   ]
  },
  {
   "cell_type": "code",
   "execution_count": 38,
   "metadata": {},
   "outputs": [
    {
     "ename": "",
     "evalue": "",
     "output_type": "error",
     "traceback": [
      "\u001b[1;31mCanceled future for execute_request message before replies were done"
     ]
    },
    {
     "ename": "",
     "evalue": "",
     "output_type": "error",
     "traceback": [
      "\u001b[1;31mThe Kernel crashed while executing code in the the current cell or a previous cell. Please review the code in the cell(s) to identify a possible cause of the failure. Click <a href='https://aka.ms/vscodeJupyterKernelCrash'>here</a> for more info. View Jupyter <a href='command:jupyter.viewOutput'>log</a> for further details."
     ]
    }
   ],
   "source": [
    "import collections\n",
    "hash_indexes =[]\n",
    "for w_g in valid:\n",
    "    h = visualize_util.DAG_hash(w_g)\n",
    "    ix = all_data_hashes[h]\n",
    "    # print(h)\n",
    "    hash_indexes.append(ix)\n",
    "# hashes.append(visualize_util.DAG_hash(valid[0]))"
   ]
  },
  {
   "cell_type": "code",
   "execution_count": null,
   "metadata": {},
   "outputs": [
    {
     "name": "stdout",
     "output_type": "stream",
     "text": [
      "29281\n",
      "30329\n"
     ]
    }
   ],
   "source": [
    "print(len(all_data))\n",
    "print(len(valid))\n",
    "valid_cleaned = valid.copy()\n",
    "for g in all_data_cleaned:\n",
    "    to_delete_ids = [v.index for v in g.vs if v[\"type\"] == 0 or v[\"type\"] == 1]\n",
    "    g.delete_vertices(to_delete_ids)\n",
    "\n",
    "for g in valid_cleaned:\n",
    "    to_delete_ids = [v.index for v in g.vs if v[\"type\"] == 0 or v[\"type\"] == 1]\n",
    "    g.delete_vertices(to_delete_ids)"
   ]
  },
  {
   "cell_type": "code",
   "execution_count": 39,
   "metadata": {},
   "outputs": [
    {
     "name": "stdout",
     "output_type": "stream",
     "text": [
      "[[0, 1, 1, 1, 1]\n",
      " [0, 0, 1, 1, 1]\n",
      " [0, 0, 0, 1, 1]\n",
      " [0, 0, 0, 0, 1]\n",
      " [0, 0, 0, 0, 0]]\n",
      "[2, 3, 4, 6, 5]\n",
      "---------\n",
      "2345604000234020\n",
      "<class 'igraph.datatypes.Matrix'>\n"
     ]
    }
   ],
   "source": [
    "# NEM FOG LEFUTNI\n",
    "# from wrapper import GraphWrapper\n",
    "import wrapper\n",
    "importlib.reload(wrapper)\n",
    "# decode_ix = []\n",
    "# for v_ix,v in enumerate(tqdm(valid_cleaned)) :\n",
    "#     for d_ix,d in enumerate(all_data_cleaned):\n",
    "#         if is_same_DAG2(v,d):\n",
    "#             decode_ix.append(d_ix)\n",
    "#             break\n",
    "        \n",
    "# print(len(decode_ix))\n",
    "# print()\n",
    "\n",
    "w_g = wrapper.GraphWrapper(all_data[1]) \n",
    "adj = w_g.graph.get_adjacency()\n",
    "print(adj)\n",
    "print(w_g.graph.vs[\"type\"])\n",
    "print(\"---------\")\n",
    "print(w_g.__hash__())\n",
    "print(type(adj))\n",
    "\n"
   ]
  },
  {
   "cell_type": "code",
   "execution_count": 40,
   "metadata": {},
   "outputs": [
    {
     "name": "stdout",
     "output_type": "stream",
     "text": [
      "[[0, 1, 1, 1, 1]\n",
      " [0, 0, 1, 1, 1]\n",
      " [0, 0, 0, 1, 1]\n",
      " [0, 0, 0, 0, 1]\n",
      " [0, 0, 0, 0, 0]]\n",
      "[{2: 0}, {3: 1}, {4: 2}, {6: 3}, {5: 4}]\n",
      "[[0 1 1 1 1]\n",
      " [0 0 1 1 1]\n",
      " [0 0 0 1 1]\n",
      " [0 0 0 0 1]\n",
      " [0 0 0 0 0]]\n",
      "------\n",
      "[0, 0, 0, 0, 0, 0, 0, 0, 0, 0, 0, 1, 0, 0, 0, 1, 1, 1, 0, 0, 0, 0, 1, 0, 0]\n",
      "2345604000234020\n"
     ]
    }
   ],
   "source": [
    "print(adj)\n",
    "n = w_g.graph\n",
    "# print(n)\n",
    "arr = [a for a in adj]\n",
    "# print(arr)\n",
    "n = np.array(arr)\n",
    "\n",
    "\n",
    "\n",
    "\n",
    "n_c = []\n",
    "c_c = {}\n",
    "adj = w_g.graph.get_adjacency()\n",
    "for i_l,l in enumerate(adj[:]):\n",
    "    if len(c_c) == 0:\n",
    "            c_c[w_g.graph.vs[\"type\"][i_l]] = i_l\n",
    "    if i_l != adj.shape[0]-1 and l[i_l+1] == 0:\n",
    "        c_c[w_g.graph.vs[\"type\"][i_l+1]] = i_l+1\n",
    "    else:\n",
    "        n_c.append(c_c)\n",
    "        c_c = {}\n",
    "\n",
    "e_c = []\n",
    "for n in n_c:\n",
    "    x = dict(sorted(n.items()))\n",
    "    e_c.append(x)\n",
    "\n",
    "res = []\n",
    "\n",
    "print(e_c)\n",
    "\n",
    "\n",
    "res = [adj[s_e] for e in e_c for s_e in e.values()]\n",
    "r_n = np.array(res)\n",
    "print(r_n)\n",
    "print(\"------\")\n",
    "f_r = [r_n[:,s_e] for e in e_c for s_e in e.values()]\n",
    "flat_list = [item for sublist in f_r for item in sublist]\n",
    "print(flat_list)\n",
    "res_labels = [s_e for e in e_c for s_e in e.keys()]\n",
    "print(w_g.__hash__())\n"
   ]
  },
  {
   "cell_type": "code",
   "execution_count": 41,
   "metadata": {},
   "outputs": [],
   "source": [
    "counter = collections.Counter(hashes)\n",
    "c_values = list(counter.values())\n",
    "\n",
    "# print(c_values)"
   ]
  },
  {
   "cell_type": "code",
   "execution_count": null,
   "metadata": {},
   "outputs": [
    {
     "name": "stdout",
     "output_type": "stream",
     "text": [
      "1\n",
      "<wrapper.GraphWrapper object at 0x7f123bf43ca0>\n"
     ]
    }
   ],
   "source": [
    "print(np.max(c_values))\n",
    "print(hashes[0])"
   ]
  },
  {
   "cell_type": "code",
   "execution_count": null,
   "metadata": {},
   "outputs": [
    {
     "ename": "NameError",
     "evalue": "name 'Wrapped_G' is not defined",
     "output_type": "error",
     "traceback": [
      "\u001b[0;31m---------------------------------------------------------------------------\u001b[0m",
      "\u001b[0;31mNameError\u001b[0m                                 Traceback (most recent call last)",
      "Cell \u001b[0;32mIn [4], line 3\u001b[0m\n\u001b[1;32m      1\u001b[0m \u001b[39mimport\u001b[39;00m \u001b[39mcollections\u001b[39;00m\n\u001b[1;32m      2\u001b[0m hashes \u001b[39m=\u001b[39m []\n\u001b[0;32m----> 3\u001b[0m \u001b[39mfor\u001b[39;00m w_g \u001b[39min\u001b[39;00m Wrapped_G:\n\u001b[1;32m      4\u001b[0m     to_append \u001b[39m=\u001b[39m w_g\u001b[39m.\u001b[39m\u001b[39m__hash__\u001b[39m()\n\u001b[1;32m      5\u001b[0m     hashes\u001b[39m.\u001b[39mappend(to_append)\n",
      "\u001b[0;31mNameError\u001b[0m: name 'Wrapped_G' is not defined"
     ]
    },
    {
     "data": {
      "image/png": "[encoded data removed]",
      "text/plain": [
       "<Figure size 432x288 with 1 Axes>"
      ]
     },
     "metadata": {
      "needs_background": "light"
     },
     "output_type": "display_data"
    }
   ],
   "source": [
    "# import collections\n",
    "# hashes = []\n",
    "# for w_g in Wrapped_G:\n",
    "#     to_append = w_g.__hash__()\n",
    "#     hashes.append(to_append)\n",
    "\n",
    "# counter = collections.Counter(hashes)\n",
    "# c_values = list(counter.values())\n",
    "# # print(c_values)\n",
    "# print(len(c_values))\n",
    "# print(np.max(c_values))\n",
    "# plt.bar([i for i in range(len(c_values))], c_values)\n",
    "# plt.show()"
   ]
  },
  {
   "cell_type": "code",
   "execution_count": 42,
   "metadata": {},
   "outputs": [
    {
     "ename": "NameError",
     "evalue": "name 'hashes' is not defined",
     "output_type": "error",
     "traceback": [
      "\u001b[0;31m---------------------------------------------------------------------------\u001b[0m",
      "\u001b[0;31mNameError\u001b[0m                                 Traceback (most recent call last)",
      "Cell \u001b[0;32mIn [4], line 1\u001b[0m\n\u001b[0;32m----> 1\u001b[0m \u001b[39mprint\u001b[39m(\u001b[39mtype\u001b[39m(hashes[\u001b[39m0\u001b[39m]))\n\u001b[1;32m      2\u001b[0m \u001b[39m# print(hashes)\u001b[39;00m\n\u001b[1;32m      3\u001b[0m \u001b[39mprint\u001b[39m(\u001b[39mlen\u001b[39m(hashes))\n",
      "\u001b[0;31mNameError\u001b[0m: name 'hashes' is not defined"
     ]
    }
   ],
   "source": []
  },
  {
   "cell_type": "code",
   "execution_count": 43,
   "metadata": {},
   "outputs": [
    {
     "name": "stdout",
     "output_type": "stream",
     "text": [
      "44475\n"
     ]
    },
    {
     "data": {
      "image/png": "[encoded data removed]",
      "text/plain": [
       "<Figure size 432x288 with 1 Axes>"
      ]
     },
     "metadata": {
      "needs_background": "light"
     },
     "output_type": "display_data"
    },
    {
     "name": "stdout",
     "output_type": "stream",
     "text": [
      "[4, 2, 3, 8, 11, 24, 4, 7, 11, 10, 2, 28, 11, 3, 4, 4, 8, 1, 4, 22, 15, 3, 2, 3, 7, 16, 9, 23, 4, 3, 5, 10, 9, 5, 1, 2, 12, 3, 2, 3, 7, 2, 9, 16, 6, 54, 6, 1, 12, 1, 27, 3, 4, 1, 9, 10, 6, 5, 4, 3, 13, 4, 18, 8, 5, 5, 9, 1, 7, 5, 4, 2, 13, 7, 12, 21, 3, 1, 1, 10, 1, 28, 3, 2, 15, 9, 1, 46, 2, 11, 24, 3, 3, 2, 1, 2, 10, 1, 15, 12, 45, 5, 15, 13, 10, 5, 7, 3, 2, 1, 82, 34, 13, 15, 51, 1, 5, 3, 2, 2, 13, 2, 4, 3, 10, 1, 46, 1, 2, 3, 13, 3, 1, 13, 47, 15, 2, 4, 13, 16, 3, 7, 8, 19, 1, 8, 4, 10, 3, 4, 13, 9, 34, 21, 3, 16, 11, 1, 7, 8, 6, 1, 4, 45, 9, 5, 1, 2, 25, 6, 44, 11, 27, 3, 8, 5, 17, 8, 10, 1, 17, 6, 1, 4, 8, 2, 8, 7, 3, 10, 3, 5, 4, 2, 5, 2, 24, 2, 2, 10, 9, 6, 3, 3, 44, 4, 9, 8, 2, 4, 6, 6, 23, 4, 36, 7, 22, 2, 13, 5, 3, 3, 4, 1, 30, 1, 5, 7, 2, 7, 2, 10, 4, 28, 12, 3, 1, 4, 7, 1, 2, 2, 8, 2, 2, 14, 25, 5, 12, 2, 37, 1, 5, 2, 11, 3, 16, 17, 9, 1, 10, 5, 13, 5, 1, 4, 1, 7, 7, 1, 2, 4, 2, 3, 20, 19, 1, 12, 5, 7, 7, 5, 3, 15, 26, 3, 9, 14, 2, 8, 9, 9, 6, 2, 18, 6, 2, 1, 8, 7, 2, 1, 4, 3, 7, 1, 2, 2, 17, 2, 1, 2, 15, 2, 1, 8, 14, 28, 13, 1, 11, 15, 1, 1, 3, 2, 5, 7, 8, 5, 44, 9, 14, 8, 1, 21, 26, 3, 2, 20, 5, 3, 1, 18, 4, 6, 16, 4, 1, 5, 7, 4, 26, 9, 5, 3, 1, 9, 2, 4, 7, 1, 8, 16, 7, 2, 4, 2, 1, 1, 5, 10, 5, 43, 11, 1, 1, 3, 10, 7, 24, 5, 17, 1, 3, 5, 10, 1, 4, 5, 2, 4, 1, 1, 2, 2, 14, 2, 13, 4, 1, 11, 1, 1, 3, 4, 4, 41, 4, 3, 6, 1, 7, 4, 9, 5, 14, 5, 13, 1, 13, 6, 20, 4, 10, 1, 13, 1, 2, 7, 5, 12, 1, 2, 3, 4, 3, 2, 10, 5, 3, 5, 4, 8, 2, 8, 28, 2, 13, 10, 4, 3, 35, 32, 7, 11, 36, 3, 7, 11, 48, 2, 4, 2, 5, 12, 14, 9, 15, 2, 3, 3, 1, 4, 1, 3, 18, 7, 1, 3, 9, 1, 2, 1, 10, 1, 5, 5, 11, 13, 2, 2, 2, 23, 2, 4, 1, 15, 5, 17, 2, 1, 20, 13, 7, 12, 3, 4, 12, 6, 2, 2, 2, 12, 14, 8, 12, 5, 19, 4, 2, 7, 1, 10, 5, 1, 1, 15, 3, 11, 4, 3, 4, 3, 1, 3, 2, 13, 2, 6, 9, 3, 5, 1, 19, 2, 1, 2, 2, 8, 9, 41, 4, 1, 8, 7, 3, 7, 7, 2, 14, 16, 2, 2, 10, 14, 1, 6, 1, 4, 3, 1, 40, 3, 1, 2, 46, 8, 1, 1, 1, 1, 12, 1, 1, 1, 7, 2, 6, 8, 8, 8, 2, 1, 10, 2, 1, 12, 10, 1, 1, 37, 1, 1, 20, 11, 15, 9, 16, 2, 16, 1, 2, 16, 12, 1, 3, 1, 3, 6, 26, 2, 10, 5, 1, 9, 3, 12, 11, 9, 1, 8, 4, 7, 2, 5, 6, 1, 1, 12, 9, 5, 1, 7, 6, 2, 5, 16, 1, 4, 6, 3, 6, 3, 8, 1, 6, 10, 2, 3, 5, 20, 3, 6, 1, 12, 10, 1, 1, 14, 1, 1, 3, 1, 2, 1, 1, 4, 8, 2, 1, 2, 2, 43, 2, 9, 1, 30, 1, 2, 2, 3, 1, 11, 6, 2, 2, 1, 2, 4, 4, 1, 3, 1, 2, 5, 5, 20, 9, 5, 6, 1, 14, 8, 9, 1, 8, 1, 9, 33, 4, 5, 1, 1, 1, 10, 19, 14, 1, 3, 21, 5, 29, 3, 23, 9, 16, 12, 1, 3, 19, 19, 6, 5, 1, 5, 1, 2, 1, 2, 5, 2, 5, 11, 1, 1, 16, 10, 5, 7, 9, 2, 45, 3, 3, 17, 1, 19, 2, 13, 22, 1, 4, 47, 3, 2, 13, 13, 6, 3, 11, 20, 2, 7, 2, 1, 8, 6, 4, 37, 15, 7, 10, 9, 10, 10, 1, 1, 3, 10, 9, 26, 10, 16, 2, 7, 6, 3, 2, 1, 5, 9, 11, 5, 3, 21, 1, 7, 4, 10, 1, 18, 1, 3, 5, 10, 5, 9, 6, 8, 10, 10, 3, 5, 1, 12, 4, 2, 10, 5, 2, 5, 1, 4, 30, 5, 17, 28, 15, 15, 29, 1, 3, 7, 24, 7, 1, 1, 2, 9, 4, 2, 6, 14, 16, 5, 2, 2, 14, 1, 20, 12, 18, 2, 6, 24, 2, 5, 1, 12, 3, 5, 2, 18, 27, 8, 4, 4, 5, 4, 21, 5, 2, 27, 9, 5, 5, 5, 21, 7, 4, 3, 7, 10, 3, 7, 6, 5, 1, 3, 4, 9, 14, 4, 6, 5, 6, 21, 13, 3, 5, 1, 6, 14, 4, 5, 1, 10, 11, 1, 1, 5, 2, 1, 9, 11, 1, 8, 15, 7, 3, 8, 4, 6, 1, 1, 1, 2, 4, 1, 8, 9, 4, 3, 2, 1, 17, 4, 1, 3, 4, 6, 11, 5, 4, 9, 5, 14, 3, 6, 7, 4, 9, 7, 2, 2, 7, 1, 5, 4, 5, 3, 3, 4, 6, 8, 2, 3, 2, 3, 4, 16, 66, 2, 1, 6, 8, 1, 13, 1, 5, 4, 8, 11, 4, 2, 3, 1, 4, 5, 7, 5, 7, 4, 3, 1, 17, 4, 9, 3, 6, 2, 10, 1, 8, 1, 2, 14, 4, 8, 1, 4, 2, 6, 2, 2, 6, 28, 2, 3, 2, 1, 6, 4, 1, 2, 4, 7, 5, 4, 6, 6, 5, 2, 7, 5, 1, 1, 1, 5, 2, 8, 6, 7, 4, 12, 6, 1, 2, 3, 1, 13, 41, 4, 5, 14, 3, 6, 1, 2, 7, 1, 2, 7, 1, 4, 4, 9, 8, 5, 7, 1, 3, 13, 2, 5, 1, 10, 5, 3, 21, 2, 9, 8, 4, 11, 9, 8, 1, 4, 1, 3, 2, 4, 1, 1, 4, 41, 35, 2, 11, 15, 7, 13, 10, 1, 13, 5, 2, 28, 5, 7, 21, 1, 5, 27, 18, 25, 6, 12, 1, 17, 15, 3, 3, 2, 1, 6, 1, 10, 34, 15, 2, 3, 2, 3, 13, 19, 11, 1, 8, 6, 25, 7, 9, 6, 4, 9, 7, 2, 1, 1, 6, 2, 5, 2, 1, 7, 1, 7, 45, 4, 4, 2, 2, 4, 4, 12, 8, 3, 32, 1, 4, 9, 5, 2, 42, 3, 1, 15, 9, 4, 4, 1, 1, 5, 2, 1, 7, 3, 1, 2, 1, 2, 1, 3, 12, 4, 4, 9, 16, 2, 10, 7, 3, 1, 1, 5, 3, 1, 29, 31, 6, 2, 54, 3, 2, 4, 8, 2, 6, 7, 2, 1, 7, 6, 7, 3, 2, 2, 2, 16, 1, 1, 16, 2, 5, 2, 5, 7, 1, 2, 5, 8, 9, 19, 4, 1, 1, 2, 20, 11, 2, 1, 5, 5, 6, 6, 2, 9, 2, 4, 10, 1, 1, 2, 1, 1, 1, 4, 2, 2, 1, 6, 3, 1, 11, 1, 9, 2, 3, 1, 1, 1, 4, 8, 4, 4, 1, 55, 3, 23, 2, 1, 8, 1, 3, 2, 2, 4, 1, 4, 1, 5, 2, 2, 8, 3, 10, 11, 1, 1, 12, 3, 3, 6, 3, 6, 16, 1, 4, 1, 1, 1, 3, 3, 2, 5, 6, 15, 7, 9, 25, 2, 1, 7, 7, 1, 1, 8, 4, 7, 2, 2, 2, 1, 1, 10, 3, 1, 3, 9, 1, 6, 2, 7, 5, 1, 1, 7, 5, 2, 12, 4, 6, 9, 1, 2, 4, 5, 49, 5, 8, 7, 2, 15, 3, 1, 1, 2, 5, 1, 2, 1, 4, 1, 2, 1, 4, 7, 8, 10, 4, 4, 3, 3, 1, 2, 1, 10, 1, 10, 2, 2, 2, 6, 1, 3, 2, 38, 6, 2, 2, 9, 4, 1, 1, 3, 4, 2, 7, 10, 3, 3, 6, 2, 6, 3, 30, 1, 12, 3, 2, 1, 2, 1, 3, 2, 5, 1, 3, 7, 8, 7, 7, 11, 2, 22, 9, 1, 7, 9, 1, 1, 6, 5, 2, 15, 5, 1, 8, 4, 17, 9, 1, 1, 1, 4, 3, 7, 8, 17, 1, 10, 3, 8, 4, 1, 3, 2, 3, 3, 4, 10, 7, 15, 10, 1, 34, 2, 1, 1, 14, 28, 3, 1, 12, 17, 3, 1, 8, 13, 20, 25, 5, 5, 2, 18, 2, 11, 29, 6, 3, 2, 15, 2, 3, 2, 1, 1, 7, 9, 1, 2, 21, 10, 1, 8, 1, 2, 2, 6, 6, 1, 12, 10, 14, 8, 1, 1, 3, 12, 3, 21, 8, 2, 1, 1, 1, 2, 1, 23, 3, 13, 12, 4, 5, 13, 1, 8, 3, 26, 9, 10, 1, 9, 6, 8, 8, 3, 2, 2, 19, 4, 33, 8, 15, 29, 10, 1, 8, 2, 6, 8, 6, 5, 5, 4, 12, 1, 7, 1, 3, 7, 7, 3, 4, 3, 2, 2, 6, 1, 1, 1, 2, 5, 8, 12, 4, 3, 11, 8, 20, 2, 7, 6, 6, 6, 9, 1, 1, 9, 1, 17, 9, 1, 7, 2, 3, 4, 1, 8, 4, 15, 8, 3, 7, 9, 28, 6, 2, 7, 27, 3, 9, 1, 1, 6, 3, 6, 5, 2, 3, 2, 1, 10, 2, 3, 4, 3, 5, 11, 1, 2, 4, 4, 2, 4, 1, 4, 1, 4, 1, 2, 2, 2, 9, 2, 12, 8, 1, 10, 1, 6, 1, 1, 1, 11, 2, 1, 1, 6, 22, 4, 6, 1, 6, 5, 1, 2, 1, 1, 6, 2, 7, 3, 4, 3, 9, 1, 5, 2, 1, 1, 1, 4, 10, 1, 17, 14, 2, 2, 6, 1, 4, 3, 9, 8, 6, 3, 6, 1, 1, 1, 3, 1, 9, 4, 2, 6, 26, 4, 1, 2, 18, 2, 6, 26, 1, 11, 5, 44, 2, 2, 3, 1, 12, 9, 7, 11, 4, 5, 4, 5, 3, 2, 6, 3, 5, 4, 2, 4, 20, 1, 6, 1, 2, 1, 2, 1, 1, 13, 3, 1, 3, 4, 3, 7, 6, 2, 10, 1, 28, 1, 1, 1, 3, 1, 5, 1, 1, 16, 7, 1, 1, 8, 8, 6, 13, 1, 2, 1, 5, 4, 39, 1, 2, 1, 2, 10, 3, 3, 5, 2, 3, 1, 2, 8, 11, 22, 1, 2, 9, 2, 1, 6, 6, 1, 14, 3, 7, 10, 2, 7, 2, 14, 4, 1, 1, 14, 3, 3, 2, 1, 1, 10, 3, 5, 2, 1, 9, 3, 17, 1, 4, 4, 2, 2, 8, 14, 8, 4, 15, 3, 11, 1, 2, 3, 1, 4, 2, 9, 2, 2, 14, 7, 27, 17, 1, 7, 2, 35, 22, 8, 3, 5, 7, 11, 1, 5, 10, 15, 2, 31, 2, 4, 3, 7, 1, 1, 7, 1, 3, 1, 2, 1, 1, 3, 1, 4, 1, 1, 9, 12, 2, 3, 6, 2, 5, 1, 12, 8, 1, 7, 5, 3, 3, 18, 3, 5, 3, 1, 2, 3, 1, 27, 1, 2, 5, 19, 14, 2, 19, 2, 4, 6, 3, 13, 2, 1, 4, 1, 1, 10, 21, 18, 3, 2, 5, 1, 3, 1, 6, 3, 1, 6, 3, 3, 7, 1, 3, 1, 2, 8, 6, 11, 2, 1, 4, 2, 2, 2, 1, 5, 4, 7, 3, 2, 3, 1, 3, 9, 1, 3, 1, 3, 1, 5, 1, 12, 1, 7, 1, 2, 1, 4, 2, 2, 4, 7, 4, 2, 1, 5, 10, 3, 2, 9, 2, 5, 1, 1, 3, 4, 1, 16, 3, 1, 1, 4, 30, 4, 18, 14, 5, 3, 1, 5, 5, 1, 15, 1, 2, 3, 2, 12, 2, 7, 1, 26, 2, 33, 4, 1, 8, 1, 2, 2, 11, 20, 27, 4, 2, 7, 4, 2, 7, 1, 2, 1, 4, 9, 3, 11, 2, 4, 7, 5, 6, 1, 12, 3, 3, 4, 12, 2, 1, 12, 4, 1, 29, 1, 11, 7, 3, 7, 18, 1, 2, 2, 3, 1, 4, 12, 1, 12, 4, 15, 18, 33, 7, 8, 1, 2, 2, 20, 5, 10, 4, 2, 5, 1, 8, 1, 3, 4, 1, 12, 7, 5, 4, 8, 4, 3, 2, 2, 1, 3, 18, 9, 2, 4, 5, 4, 1, 3, 4, 2, 1, 15, 5, 8, 5, 5, 15, 4, 21, 19, 3, 11, 1, 1, 23, 1, 11, 1, 2, 6, 6, 3, 5, 1, 4, 2, 4, 12, 10, 3, 2, 2, 4, 2, 1, 3, 3, 19, 10, 4, 2, 12, 2, 34, 1, 2, 2, 4, 8, 2, 26, 3, 35, 2, 3, 2, 1, 4, 10, 9, 5, 3, 15, 9, 2, 2, 3, 35, 2, 1, 1, 6, 3, 1, 6, 1, 8, 1, 8, 8, 2, 3, 2, 2, 2, 3, 3, 1, 1, 1, 2, 21, 2, 4, 2, 7, 1, 4, 15, 15, 13, 10, 1, 1, 5, 1, 2, 16, 1, 5, 11, 4, 6, 5, 2, 8, 31, 3, 26, 1, 49, 3, 1, 3, 1, 35, 16, 16, 4, 4, 4, 7, 34, 3, 1, 1, 1, 11, 7, 5, 2, 1, 8, 5, 15, 3, 18, 6, 5, 21, 1, 11, 1, 1, 9, 1, 2, 6, 23, 2, 10, 7, 15, 2, 23, 3, 6, 12, 5, 8, 1, 6, 10, 9, 12, 3, 1, 3, 9, 5, 5, 3, 25, 2, 1, 7, 3, 4, 2, 1, 2, 1, 2, 5, 13, 1, 1, 16, 1, 4, 3, 6, 1, 2, 6, 17, 3, 2, 4, 4, 1, 2, 33, 2, 8, 2, 1, 2, 1, 1, 3, 1, 2, 4, 1, 2, 7, 4, 3, 1, 2, 2, 14, 1, 1, 1, 1, 2, 4, 9, 13, 11, 1, 2, 3, 1, 27, 2, 2, 3, 10, 1, 10, 7, 3, 1, 2, 30, 9, 1, 11, 1, 19, 2, 1, 4, 5, 7, 4, 3, 2, 4, 2, 2, 1, 3, 3, 1, 3, 1, 3, 1, 13, 2, 8, 7, 8, 4, 6, 2, 6, 7, 12, 3, 2, 1, 5, 2, 2, 1, 11, 4, 11, 13, 3, 9, 6, 3, 1, 20, 2, 1, 2, 18, 3, 13, 6, 7, 4, 4, 1, 7, 2, 1, 15, 4, 2, 6, 1, 1, 9, 3, 3, 5, 1, 1, 10, 4, 2, 7, 4, 5, 3, 5, 1, 1, 2, 16, 6, 12, 1, 2, 1, 3, 6, 11, 2, 6, 6, 1, 10, 1, 4, 13, 3, 2, 2, 1, 9, 9, 1, 2, 1, 19, 11, 2, 1, 13, 11, 7, 1, 2, 4, 1, 1, 1, 2, 24, 6, 4, 10, 2, 6, 12, 1, 2, 2, 2, 1, 1, 4, 2, 1, 9, 4, 1, 11, 8, 5, 3, 6, 2, 1, 2, 1, 1, 2, 4, 1, 3, 3, 3, 6, 3, 2, 12, 4, 2, 2, 2, 1, 2, 5, 2, 2, 1, 8, 2, 1, 1, 1, 3, 2, 3, 2, 2, 1, 11, 6, 1, 2, 8, 2, 12, 1, 9, 7, 3, 9, 2, 1, 2, 8, 1, 7, 2, 3, 2, 1, 1, 5, 4, 6, 5, 1, 1, 1, 11, 2, 3, 3, 7, 1, 5, 1, 2, 2, 5, 18, 10, 1, 1, 1, 8, 3, 3, 5, 1, 2, 1, 4, 1, 27, 2, 2, 7, 3, 9, 2, 1, 4, 2, 11, 5, 11, 2, 2, 2, 15, 5, 4, 1, 1, 1, 9, 3, 3, 1, 2, 4, 10, 1, 5, 14, 6, 2, 3, 3, 1, 3, 5, 18, 2, 3, 9, 14, 4, 1, 10, 6, 9, 22, 3, 3, 16, 29, 2, 3, 4, 5, 19, 1, 2, 4, 1, 8, 4, 9, 6, 4, 7, 7, 6, 20, 5, 5, 1, 34, 3, 5, 2, 2, 6, 6, 3, 6, 42, 5, 1, 7, 21, 2, 2, 3, 12, 3, 2, 8, 2, 7, 1, 7, 9, 1, 2, 12, 1, 6, 2, 4, 1, 3, 1, 12, 5, 3, 6, 9, 3, 7, 2, 1, 1, 16, 4, 13, 2, 1, 8, 15, 13, 1, 1, 3, 1, 4, 6, 6, 4, 5, 6, 1, 16, 1, 2, 19, 2, 6, 8, 6, 3, 1, 2, 5, 1, 1, 4, 10, 65, 11, 3, 5, 17, 1, 9, 6, 10, 1, 1, 2, 5, 2, 7, 11, 1, 10, 11, 14, 8, 2, 16, 5, 9, 3, 2, 7, 1, 2, 1, 1, 2, 5, 3, 1, 4, 2, 9, 1, 2, 1, 2, 3, 1, 1, 6, 3, 1, 5, 4, 2, 3, 3, 12, 11, 4, 1, 15, 12, 15, 6, 3, 1, 1, 1, 2, 4, 3, 1, 6, 1, 2, 7, 11, 21, 4, 3, 8, 2, 2, 14, 1, 7, 3, 6, 2, 1, 1, 5, 1, 8, 1, 8, 8, 6, 1, 8, 3, 4, 1, 7, 9, 5, 2, 10, 1, 2, 6, 3, 3, 2, 5, 3, 5, 2, 1, 9, 3, 2, 2, 2, 1, 4, 2, 1, 7, 2, 4, 1, 16, 4, 5, 37, 4, 1, 9, 1, 1, 6, 1, 3, 2, 8, 3, 9, 1, 12, 12, 14, 3, 3, 16, 7, 2, 2, 4, 4, 1, 2, 1, 1, 1, 13, 2, 4, 2, 3, 1, 3, 1, 11, 3, 4, 1, 2, 4, 6, 1, 1, 5, 6, 8, 1, 2, 1, 5, 2, 3, 4, 4, 2, 4, 16, 4, 1, 1, 11, 4, 3, 1, 1, 8, 6, 2, 3, 3, 6, 16, 5, 1, 2, 2, 3, 9, 3, 12, 5, 5, 20, 13, 11, 4, 1, 3, 1, 4, 8, 2, 2, 1, 5, 1, 9, 6, 1, 2, 1, 9, 1, 14, 2, 2, 3, 1, 6, 1, 2, 1, 2, 2, 5, 3, 2, 3, 11, 1, 16, 2, 7, 1, 2, 4, 2, 1, 3, 12, 2, 2, 8, 3, 1, 5, 2, 2, 2, 4, 3, 4, 1, 2, 3, 2, 30, 1, 2, 14, 5, 9, 12, 3, 10, 1, 2, 3, 5, 3, 2, 2, 1, 1, 3, 11, 3, 1, 1, 7, 1, 2, 1, 2, 3, 1, 1, 1, 1, 1, 1, 7, 8, 18, 1, 1, 9, 1, 8, 4, 7, 39, 2, 2, 2, 1, 4, 1, 15, 1, 3, 1, 5, 1, 1, 4, 12, 1, 1, 4, 1, 1, 1, 1, 2, 7, 3, 6, 1, 2, 3, 1, 15, 2, 1, 2, 3, 1, 1, 1, 8, 10, 1, 1, 2, 3, 1, 1, 4, 3, 1, 3, 4, 2, 4, 4, 2, 1, 2, 3, 1, 1, 1, 1, 2, 1, 2, 13, 1, 1, 8, 1, 1, 2, 8, 1, 10, 1, 1, 18, 2, 4, 2, 3, 5, 1, 2, 1, 5, 47, 7, 2, 9, 1, 7, 12, 1, 6, 2, 2, 4, 17, 4, 4, 1, 2, 3, 1, 2, 4, 5, 1, 3, 15, 2, 1, 4, 8, 1, 6, 1, 1, 6, 5, 1, 7, 1, 6, 1, 4, 5, 2, 6, 4, 2, 2, 9, 9, 29, 1, 1, 3, 2, 2, 2, 2, 4, 9, 3, 3, 2, 1, 4, 3, 2, 6, 8, 1, 3, 1, 4, 17, 2, 4, 20, 4, 4, 14, 3, 3, 6, 10, 2, 11, 2, 40, 5, 2, 1, 25, 3, 14, 3, 1, 5, 11, 15, 2, 1, 7, 8, 3, 6, 19, 10, 10, 4, 4, 3, 5, 2, 4, 2, 2, 7, 1, 2, 2, 3, 4, 1, 4, 4, 10, 2, 6, 1, 8, 1, 4, 6, 9, 4, 7, 4, 6, 2, 1, 1, 3, 2, 8, 4, 1, 1, 2, 6, 1, 7, 2, 3, 8, 1, 29, 8, 22, 1, 26, 9, 11, 6, 1, 6, 6, 10, 2, 6, 1, 1, 2, 1, 2, 5, 9, 11, 4, 15, 8, 12, 10, 5, 17, 2, 2, 5, 2, 2, 7, 8, 4, 1, 9, 3, 6, 4, 5, 1, 8, 4, 3, 5, 4, 2, 6, 1, 3, 2, 2, 5, 3, 13, 10, 4, 8, 5, 6, 23, 3, 20, 4, 3, 8, 10, 1, 2, 10, 13, 2, 8, 6, 1, 13, 8, 3, 1, 2, 4, 1, 4, 1, 2, 22, 1, 2, 4, 9, 1, 1, 3, 16, 2, 3, 6, 7, 2, 3, 2, 3, 3, 1, 2, 2, 1, 5, 1, 12, 7, 1, 3, 5, 3, 1, 3, 9, 4, 1, 3, 2, 4, 3, 11, 5, 7, 1, 3, 2, 1, 3, 4, 2, 1, 7, 10, 1, 3, 13, 5, 1, 1, 2, 2, 3, 3, 2, 2, 1, 17, 2, 4, 1, 2, 4, 4, 6, 1, 2, 2, 7, 3, 9, 6, 1, 1, 1, 1, 1, 6, 1, 5, 2, 2, 1, 2, 7, 9, 1, 10, 5, 2, 1, 1, 3, 2, 1, 2, 1, 8, 1, 1, 8, 6, 3, 1, 5, 4, 2, 3, 1, 2, 4, 1, 5, 3, 8, 7, 1, 4, 2, 1, 4, 4, 5, 3, 5, 2, 3, 13, 1, 17, 6, 2, 1, 1, 5, 3, 2, 2, 2, 5, 2, 2, 2, 2, 3, 6, 4, 3, 2, 1, 2, 1, 2, 7, 1, 3, 14, 2, 2, 5, 1, 2, 4, 6, 18, 1, 1, 2, 5, 2, 3, 11, 1, 1, 2, 5, 1, 4, 8, 3, 19, 3, 22, 3, 1, 3, 1, 15, 7, 8, 1, 10, 1, 2, 1, 4, 23, 5, 1, 1, 1, 1, 3, 2, 5, 1, 4, 6, 2, 1, 4, 1, 4, 1, 2, 3, 1, 2, 1, 3, 2, 1, 2, 1, 3, 8, 2, 9, 3, 5, 16, 6, 1, 3, 2, 8, 1, 1, 2, 13, 1, 9, 7, 1, 1, 1, 4, 1, 3, 7, 3, 1, 1, 1, 2, 2, 1, 5, 2, 4, 2, 6, 3, 4, 1, 2, 6, 1, 1, 4, 10, 1, 1, 10, 3, 2, 1, 2, 2, 3, 13, 6, 6, 7, 1, 2, 1, 2, 1, 2, 3, 2, 1, 10, 1, 3, 8, 1, 1, 3, 11, 1, 3, 2, 1, 2, 1, 15, 19, 5, 8, 1, 16, 4, 2, 1, 1, 11, 17, 5, 4, 1, 5, 3, 1, 1, 2, 6, 1, 3, 2, 12, 4, 6, 2, 3, 1, 7, 6, 2, 1, 3, 1, 9, 5, 4, 1, 1, 2, 3, 1, 4, 6, 2, 2, 13, 8, 5, 7, 1, 1, 1, 1, 13, 2, 15, 7, 5, 5, 6, 12, 11, 4, 9, 6, 14, 6, 16, 11, 35, 1, 5, 2, 2, 1, 1, 7, 4, 1, 2, 5, 8, 1, 2, 1, 2, 16, 3, 7, 5, 7, 2, 8, 8, 1, 1, 4, 13, 2, 1, 7, 1, 5, 1, 4, 6, 1, 7, 1, 1, 11, 4, 2, 7, 5, 13, 1, 12, 3, 2, 6, 2, 1, 1, 2, 1, 1, 1, 5, 3, 2, 1, 4, 1, 2, 1, 9, 4, 1, 5, 10, 2, 21, 2, 9, 2, 7, 1, 2, 8, 6, 4, 17, 7, 1, 1, 3, 2, 2, 3, 3, 12, 5, 11, 1, 15, 1, 3, 2, 2, 14, 3, 1, 3, 10, 1, 13, 1, 2, 1, 2, 1, 3, 3, 2, 1, 6, 5, 3, 2, 11, 3, 1, 1, 2, 6, 7, 3, 8, 5, 1, 1, 1, 1, 1, 5, 7, 1, 3, 7, 2, 4, 3, 2, 1, 10, 6, 12, 3, 8, 3, 12, 3, 6, 1, 2, 1, 1, 3, 2, 1, 2, 3, 5, 1, 5, 5, 2, 1, 8, 1, 4, 1, 2, 1, 2, 5, 7, 2, 4, 1, 10, 1, 1, 1, 3, 1, 1, 1, 2, 1, 4, 6, 1, 3, 9, 13, 1, 1, 6, 2, 2, 2, 3, 1, 3, 2, 1, 1, 1, 5, 1, 13, 4, 7, 1, 1, 9, 2, 4, 10, 8, 1, 2, 1, 1, 1, 6, 2, 18, 4, 1, 2, 1, 1, 3, 2, 2, 2, 5, 14, 1, 5, 3, 1, 1, 3, 5, 1, 2, 4, 1, 3, 5, 3, 12, 1, 10, 3, 7, 4, 11, 1, 1, 4, 1, 1, 4, 1, 7, 2, 6, 5, 1, 2, 3, 1, 1, 4, 1, 6, 10, 1, 1, 1, 2, 5, 2, 1, 5, 3, 8, 9, 2, 3, 2, 1, 3, 2, 2, 4, 2, 4, 7, 3, 1, 1, 1, 1, 1, 7, 1, 14, 1, 4, 6, 3, 3, 6, 1, 3, 10, 1, 1, 4, 1, 1, 1, 1, 2, 3, 2, 3, 1, 1, 1, 8, 4, 6, 2, 1, 2, 3, 3, 1, 1, 3, 1, 1, 4, 1, 2, 1, 1, 3, 2, 3, 2, 2, 2, 2, 2, 2, 2, 2, 2, 1, 8, 1, 2, 2, 2, 5, 1, 1, 1, 1, 8, 5, 7, 2, 1, 1, 2, 2, 3, 18, 1, 5, 1, 7, 1, 1, 2, 2, 1, 2, 8, 1, 2, 10, 2, 4, 15, 5, 1, 5, 3, 4, 9, 1, 3, 4, 1, 1, 2, 6, 6, 8, 16, 3, 4, 3, 6, 4, 1, 11, 7, 5, 22, 8, 4, 1, 1, 1, 2, 5, 1, 5, 2, 5, 11, 19, 4, 1, 1, 3, 16, 2, 5, 9, 7, 17, 1, 4, 3, 2, 3, 2, 12, 1, 4, 1, 4, 5, 3, 5, 1, 6, 3, 2, 1, 6, 15, 2, 1, 2, 22, 5, 14, 8, 2, 2, 1, 2, 4, 2, 14, 8, 1, 3, 2, 4, 8, 11, 1, 11, 5, 6, 2, 1, 1, 18, 8, 1, 2, 1, 4, 3, 2, 3, 9, 1, 13, 1, 4, 1, 4, 1, 1, 2, 1, 3, 7, 1, 12, 3, 1, 1, 4, 12, 11, 2, 1, 1, 1, 3, 6, 1, 1, 2, 1, 1, 13, 1, 2, 3, 2, 1, 7, 4, 28, 7, 1, 1, 4, 2, 6, 8, 4, 1, 1, 1, 1, 3, 4, 5, 2, 3, 5, 2, 5, 17, 1, 13, 9, 1, 12, 1, 2, 3, 6, 6, 2, 1, 1, 1, 4, 1, 1, 8, 3, 8, 13, 2, 4, 7, 1, 8, 3, 1, 6, 6, 6, 13, 4, 2, 3, 24, 3, 5, 2, 1, 3, 4, 12, 7, 12, 1, 2, 2, 3, 4, 3, 1, 1, 1, 3, 2, 1, 2, 1, 8, 1, 4, 1, 2, 8, 1, 1, 3, 10, 6, 2, 1, 1, 6, 3, 2, 2, 2, 1, 1, 1, 12, 1, 2, 12, 2, 3, 2, 3, 2, 5, 4, 7, 2, 4, 1, 4, 1, 7, 4, 8, 3, 3, 2, 3, 1, 1, 4, 1, 1, 1, 3, 4, 3, 3, 1, 1, 6, 4, 1, 5, 1, 2, 2, 1, 15, 1, 1, 3, 6, 1, 1, 3, 1, 4, 2, 2, 1, 1, 4, 1, 7, 2, 4, 7, 6, 1, 3, 1, 1, 1, 1, 1, 2, 2, 2, 3, 4, 1, 5, 1, 3, 6, 2, 1, 2, 2, 1, 2, 1, 5, 1, 1, 6, 3, 2, 2, 2, 4, 4, 1, 1, 2, 1, 5, 6, 6, 3, 15, 1, 2, 1, 7, 2, 5, 7, 1, 4, 3, 1, 1, 5, 1, 10, 5, 3, 2, 2, 13, 1, 6, 22, 1, 3, 1, 7, 3, 2, 2, 3, 9, 1, 1, 3, 7, 2, 5, 14, 2, 5, 3, 4, 1, 1, 8, 11, 1, 8, 7, 20, 2, 12, 2, 4, 2, 1, 1, 1, 5, 2, 2, 3, 1, 1, 5, 2, 2, 20, 6, 11, 6, 1, 4, 1, 1, 2, 2, 3, 2, 2, 5, 8, 2, 8, 7, 2, 7, 1, 3, 2, 3, 2, 2, 1, 2, 1, 1, 2, 5, 7, 4, 11, 3, 2, 8, 3, 1, 2, 4, 2, 7, 2, 5, 8, 3, 4, 1, 7, 7, 1, 1, 17, 6, 2, 1, 1, 1, 9, 7, 5, 2, 1, 5, 1, 6, 1, 1, 8, 8, 2, 3, 4, 6, 7, 3, 2, 2, 2, 10, 2, 5, 1, 1, 1, 7, 4, 6, 6, 1, 2, 1, 4, 5, 1, 1, 20, 8, 1, 2, 2, 2, 6, 3, 1, 5, 2, 1, 4, 5, 7, 2, 3, 6, 4, 3, 3, 1, 5, 7, 1, 6, 4, 1, 1, 1, 8, 2, 2, 1, 1, 1, 1, 1, 3, 2, 6, 1, 2, 4, 1, 1, 1, 19, 3, 1, 1, 2, 2, 4, 29, 1, 7, 9, 4, 4, 6, 1, 1, 5, 4, 3, 6, 2, 14, 3, 5, 3, 6, 2, 3, 1, 1, 3, 1, 3, 1, 5, 2, 2, 3, 3, 7, 3, 2, 7, 4, 2, 1, 7, 3, 1, 1, 3, 8, 8, 5, 2, 7, 1, 2, 8, 1, 1, 1, 1, 1, 3, 2, 3, 7, 5, 3, 4, 2, 10, 2, 6, 1, 1, 9, 7, 1, 3, 2, 2, 1, 6, 2, 1, 19, 4, 2, 2, 4, 7, 2, 3, 2, 1, 3, 1, 1, 2, 2, 1, 1, 4, 5, 2, 2, 1, 2, 2, 2, 2, 3, 1, 2, 6, 1, 1, 3, 3, 2, 1, 2, 1, 2, 3, 2, 1, 1, 5, 1, 1, 2, 1, 1, 1, 1, 2, 3, 4, 2, 3, 1, 1, 11, 8, 1, 3, 2, 1, 7, 2, 7, 6, 4, 1, 2, 1, 1, 5, 5, 1, 1, 1, 3, 1, 5, 3, 1, 1, 9, 8, 1, 8, 1, 1, 2, 2, 1, 3, 1, 4, 3, 5, 6, 2, 1, 4, 6, 2, 2, 1, 1, 1, 8, 3, 21, 1, 3, 21, 1, 5, 1, 2, 3, 6, 2, 2, 7, 5, 9, 1, 1, 1, 6, 1, 9, 2, 3, 1, 2, 1, 6, 2, 1, 13, 1, 1, 1, 1, 1, 5, 1, 1, 3, 13, 1, 2, 6, 6, 4, 2, 1, 1, 1, 5, 1, 1, 3, 3, 1, 2, 3, 2, 4, 8, 1, 2, 2, 5, 3, 1, 1, 6, 4, 2, 9, 16, 1, 1, 1, 10, 8, 6, 2, 7, 1, 2, 3, 1, 1, 4, 1, 1, 6, 2, 1, 1, 9, 1, 8, 18, 3, 14, 10, 2, 20, 1, 1, 13, 7, 6, 1, 5, 5, 1, 2, 12, 4, 2, 1, 3, 4, 1, 15, 1, 1, 12, 1, 3, 1, 9, 2, 2, 2, 1, 1, 2, 1, 3, 10, 2, 3, 2, 1, 5, 2, 2, 1, 4, 1, 1, 1, 2, 1, 14, 2, 5, 1, 2, 5, 14, 2, 3, 6, 5, 10, 5, 1, 1, 1, 1, 2, 2, 2, 1, 6, 4, 9, 1, 3, 6, 12, 1, 1, 1, 1, 1, 7, 3, 2, 3, 8, 2, 1, 2, 1, 2, 4, 3, 1, 9, 10, 6, 10, 8, 6, 2, 2, 1, 2, 8, 1, 1, 1, 2, 2, 2, 2, 1, 10, 1, 3, 2, 3, 1, 2, 2, 2, 1, 2, 3, 13, 1, 1, 3, 1, 5, 2, 1, 11, 2, 5, 4, 1, 3, 3, 2, 2, 1, 11, 5, 2, 3, 1, 1, 6, 1, 4, 2, 3, 2, 2, 6, 5, 1, 4, 3, 2, 2, 2, 2, 1, 3, 1, 1, 2, 1, 4, 1, 6, 2, 4, 3, 3, 2, 1, 2, 1, 6, 7, 3, 8, 4, 2, 10, 2, 13, 2, 7, 1, 6, 9, 4, 3, 1, 2, 2, 3, 5, 2, 1, 2, 2, 2, 1, 4, 1, 4, 2, 1, 2, 2, 5, 2, 1, 1, 1, 1, 2, 4, 3, 4, 1, 7, 1, 1, 2, 3, 1, 1, 1, 2, 2, 4, 1, 9, 1, 6, 2, 2, 1, 1, 2, 1, 7, 1, 1, 1, 3, 1, 2, 1, 1, 3, 3, 2, 3, 2, 1, 1, 1, 1, 1, 1, 3, 2, 4, 2, 2, 1, 2, 1, 1, 2, 1, 1, 5, 2, 1, 2, 3, 1, 1, 2, 5, 1, 3, 10, 2, 3, 1, 5, 2, 6, 1, 2, 6, 1, 1, 11, 3, 2, 4, 4, 1, 3, 1, 10, 1, 2, 9, 2, 1, 3, 3, 4, 8, 2, 12, 4, 1, 2, 1, 1, 6, 2, 2, 5, 1, 3, 4, 3, 1, 1, 2, 1, 2, 2, 1, 1, 3, 1, 1, 1, 4, 2, 4, 1, 2, 1, 4, 6, 3, 1, 12, 12, 13, 4, 3, 3, 1, 11, 9, 4, 1, 10, 17, 2, 5, 1, 1, 3, 6, 6, 3, 7, 7, 10, 1, 1, 2, 1, 10, 6, 5, 2, 7, 1, 1, 10, 6, 3, 7, 1, 1, 4, 3, 4, 5, 10, 3, 4, 7, 7, 2, 9, 1, 1, 11, 18, 2, 2, 4, 1, 3, 2, 1, 3, 9, 4, 1, 2, 1, 8, 6, 5, 2, 2, 9, 2, 3, 9, 6, 4, 1, 1, 1, 3, 3, 2, 1, 1, 1, 4, 1, 1, 1, 1, 1, 1, 1, 2, 9, 3, 3, 4, 1, 8, 5, 3, 12, 1, 1, 1, 1, 4, 14, 1, 3, 4, 1, 2, 3, 3, 1, 5, 1, 4, 5, 2, 2, 3, 1, 1, 5, 4, 1, 3, 2, 16, 6, 3, 7, 2, 3, 5, 6, 1, 3, 3, 1, 3, 1, 1, 2, 2, 4, 2, 1, 2, 1, 1, 1, 3, 1, 4, 1, 1, 1, 2, 3, 8, 8, 1, 3, 3, 2, 5, 2, 3, 10, 5, 1, 1, 3, 1, 1, 3, 2, 6, 8, 2, 2, 2, 3, 3, 1, 3, 1, 1, 1, 3, 1, 1, 3, 7, 3, 3, 6, 1, 3, 12, 3, 1, 2, 3, 1, 1, 1, 1, 5, 1, 1, 1, 1, 2, 1, 4, 1, 3, 1, 2, 3, 5, 5, 2, 2, 12, 2, 3, 2, 6, 3, 2, 3, 1, 2, 2, 1, 1, 1, 2, 2, 2, 1, 1, 2, 5, 2, 2, 1, 1, 1, 4, 4, 6, 1, 1, 1, 1, 2, 4, 1, 1, 1, 1, 4, 11, 1, 1, 5, 2, 12, 2, 4, 3, 1, 1, 2, 1, 2, 2, 3, 5, 1, 2, 12, 2, 5, 1, 1, 3, 2, 1, 2, 2, 1, 1, 4, 4, 1, 1, 1, 3, 4, 6, 1, 2, 1, 2, 1, 2, 3, 1, 1, 1, 4, 1, 5, 1, 2, 2, 4, 4, 9, 2, 2, 2, 2, 1, 3, 2, 3, 1, 1, 2, 1, 2, 5, 2, 4, 1, 4, 2, 2, 3, 1, 1, 8, 2, 1, 6, 2, 1, 2, 2, 1, 1, 2, 1, 4, 2, 12, 5, 3, 2, 5, 1, 1, 2, 1, 1, 6, 4, 1, 1, 2, 1, 1, 3, 1, 1, 2, 2, 5, 2, 3, 1, 1, 1, 1, 1, 5, 10, 3, 1, 6, 1, 5, 6, 2, 2, 8, 4, 1, 1, 1, 1, 3, 5, 4, 1, 2, 3, 2, 5, 1, 1, 9, 7, 4, 6, 3, 5, 1, 1, 5, 4, 1, 4, 3, 1, 1, 4, 5, 1, 18, 1, 12, 1, 3, 2, 1, 2, 1, 2, 1, 10, 4, 2, 1, 2, 2, 2, 1, 1, 1, 1, 1, 2, 3, 4, 2, 6, 2, 1, 1, 4, 2, 6, 1, 1, 7, 7, 1, 4, 1, 1, 3, 3, 9, 1, 6, 1, 2, 2, 3, 2, 6, 3, 1, 4, 4, 1, 1, 11, 14, 16, 3, 2, 1, 4, 1, 1, 1, 1, 4, 5, 1, 1, 7, 1, 1, 1, 1, 4, 1, 3, 3, 3, 9, 1, 1, 1, 1, 1, 1, 4, 3, 4, 1, 5, 1, 1, 1, 1, 3, 1, 2, 2, 1, 1, 1, 3, 3, 2, 6, 2, 1, 1, 3, 4, 3, 2, 2, 1, 5, 1, 1, 1, 2, 1, 1, 1, 2, 3, 3, 1, 5, 2, 1, 3, 1, 3, 1, 1, 1, 5, 1, 8, 3, 1, 7, 4, 3, 1, 1, 8, 1, 1, 5, 2, 2, 1, 5, 1, 8, 1, 1, 1, 2, 2, 2, 5, 5, 3, 2, 1, 2, 2, 2, 4, 29, 1, 8, 1, 2, 3, 2, 2, 1, 1, 2, 1, 2, 5, 4, 2, 20, 2, 3, 1, 3, 2, 2, 1, 2, 2, 5, 10, 2, 3, 1, 4, 1, 1, 1, 3, 3, 1, 1, 21, 1, 1, 1, 2, 1, 1, 1, 1, 2, 4, 1, 1, 2, 1, 4, 2, 2, 7, 3, 2, 2, 2, 7, 1, 2, 3, 3, 12, 1, 4, 1, 22, 3, 1, 2, 1, 5, 6, 1, 1, 1, 1, 2, 1, 2, 1, 1, 2, 1, 2, 1, 8, 1, 1, 2, 4, 3, 5, 10, 1, 1, 1, 1, 4, 2, 2, 1, 14, 1, 1, 6, 1, 5, 1, 1, 2, 1, 1, 1, 1, 1, 1, 2, 5, 7, 2, 1, 4, 1, 2, 1, 3, 1, 2, 1, 1, 1, 1, 2, 2, 4, 7, 2, 8, 2, 2, 1, 2, 1, 1, 2, 1, 1, 1, 1, 3, 5, 2, 3, 1, 1, 3, 3, 1, 1, 3, 1, 2, 5, 5, 1, 1, 9, 2, 1, 1, 2, 2, 3, 1, 1, 2, 1, 1, 4, 5, 6, 8, 2, 2, 1, 2, 10, 2, 2, 2, 3, 16, 6, 8, 5, 6, 1, 3, 1, 4, 8, 5, 4, 2, 1, 1, 5, 8, 4, 8, 5, 2, 5, 1, 2, 4, 1, 1, 1, 3, 3, 2, 3, 6, 14, 6, 3, 10, 3, 2, 1, 1, 1, 9, 2, 4, 1, 2, 2, 3, 1, 11, 1, 5, 2, 1, 3, 6, 3, 3, 2, 1, 1, 6, 18, 1, 1, 1, 1, 5, 6, 2, 1, 4, 2, 4, 1, 7, 5, 2, 4, 5, 3, 3, 6, 3, 1, 1, 2, 2, 8, 3, 6, 5, 4, 3, 2, 1, 1, 6, 3, 5, 4, 5, 4, 1, 11, 3, 3, 3, 1, 1, 3, 3, 2, 1, 3, 3, 1, 1, 1, 3, 2, 2, 5, 5, 3, 1, 14, 1, 3, 5, 2, 7, 10, 6, 15, 5, 2, 3, 1, 5, 1, 3, 11, 5, 5, 2, 1, 4, 1, 1, 2, 1, 3, 1, 6, 2, 3, 6, 2, 11, 3, 1, 3, 2, 1, 1, 29, 1, 3, 3, 5, 3, 3, 2, 1, 1, 1, 1, 1, 1, 3, 1, 1, 3, 3, 4, 3, 1, 1, 1, 2, 2, 1, 3, 1, 1, 5, 3, 4, 1, 4, 8, 2, 1, 4, 2, 2, 1, 1, 2, 2, 1, 11, 2, 4, 1, 5, 3, 5, 1, 1, 7, 3, 1, 7, 1, 1, 1, 5, 1, 5, 5, 2, 1, 1, 2, 1, 1, 1, 8, 4, 1, 2, 3, 21, 3, 3, 5, 1, 5, 3, 6, 1, 1, 1, 2, 1, 1, 1, 2, 10, 4, 3, 1, 1, 1, 2, 1, 3, 1, 4, 2, 4, 1, 1, 3, 5, 2, 2, 10, 15, 2, 1, 2, 3, 1, 1, 2, 4, 1, 1, 2, 2, 1, 1, 1, 1, 1, 3, 1, 1, 8, 1, 1, 2, 5, 1, 1, 2, 1, 1, 1, 3, 1, 2, 6, 3, 6, 4, 1, 5, 1, 4, 1, 5, 8, 3, 2, 4, 1, 1, 1, 5, 1, 2, 1, 2, 3, 1, 5, 1, 1, 3, 1, 1, 1, 3, 4, 2, 1, 2, 1, 1, 2, 4, 3, 1, 2, 4, 16, 2, 8, 1, 1, 2, 4, 10, 5, 4, 2, 3, 8, 7, 2, 3, 2, 4, 3, 1, 3, 5, 6, 2, 7, 1, 1, 3, 2, 1, 1, 3, 2, 3, 2, 5, 5, 3, 1, 1, 1, 4, 5, 1, 4, 2, 5, 1, 1, 6, 1, 8, 6, 1, 1, 4, 1, 4, 3, 1, 8, 4, 1, 6, 4, 2, 6, 9, 3, 8, 6, 1, 12, 3, 2, 1, 2, 1, 1, 4, 1, 1, 3, 7, 6, 8, 2, 3, 1, 3, 1, 1, 3, 5, 1, 4, 3, 4, 1, 1, 1, 1, 2, 1, 2, 1, 1, 3, 2, 3, 7, 2, 5, 4, 2, 1, 2, 1, 1, 1, 10, 3, 1, 2, 2, 3, 3, 1, 1, 2, 2, 1, 1, 3, 2, 7, 5, 2, 1, 7, 4, 2, 1, 1, 4, 1, 1, 5, 2, 3, 2, 1, 3, 2, 4, 3, 1, 2, 1, 1, 1, 2, 1, 1, 1, 3, 1, 2, 2, 4, 1, 1, 2, 1, 1, 1, 1, 3, 1, 2, 4, 1, 2, 7, 3, 2, 6, 11, 3, 12, 9, 1, 1, 3, 2, 2, 1, 1, 2, 3, 1, 2, 4, 3, 1, 1, 3, 1, 17, 1, 1, 1, 9, 1, 1, 1, 5, 2, 1, 3, 2, 4, 2, 1, 1, 3, 2, 3, 1, 3, 6, 2, 2, 2, 1, 1, 1, 1, 4, 2, 1, 1, 15, 1, 1, 3, 2, 1, 3, 2, 2, 4, 1, 4, 1, 9, 1, 1, 2, 1, 1, 1, 2, 1, 1, 1, 1, 1, 1, 1, 8, 1, 1, 1, 2, 1, 1, 1, 2, 1, 2, 11, 1, 1, 2, 8, 1, 4, 1, 1, 1, 1, 1, 1, 1, 4, 2, 2, 1, 2, 1, 1, 3, 3, 2, 1, 2, 1, 1, 1, 7, 1, 1, 5, 1, 2, 2, 5, 5, 2, 3, 2, 1, 6, 4, 1, 1, 1, 2, 2, 3, 1, 1, 1, 2, 1, 3, 5, 1, 1, 3, 1, 4, 1, 1, 1, 1, 7, 3, 1, 19, 1, 1, 2, 8, 1, 1, 4, 5, 2, 1, 10, 5, 2, 2, 1, 1, 1, 4, 4, 2, 1, 1, 4, 1, 2, 2, 9, 2, 1, 1, 2, 3, 10, 1, 5, 18, 2, 3, 1, 1, 4, 4, 4, 3, 1, 15, 5, 1, 1, 1, 1, 1, 4, 1, 3, 4, 2, 1, 6, 9, 1, 1, 18, 4, 3, 5, 2, 1, 2, 1, 2, 8, 1, 1, 3, 2, 2, 4, 3, 6, 2, 4, 1, 11, 2, 10, 1, 7, 5, 4, 1, 1, 3, 1, 1, 1, 1, 1, 1, 1, 3, 1, 2, 1, 2, 5, 1, 3, 1, 3, 6, 5, 1, 1, 2, 3, 1, 2, 2, 5, 3, 4, 4, 2, 1, 1, 11, 2, 1, 6, 1, 5, 3, 1, 1, 1, 3, 7, 2, 1, 4, 1, 3, 6, 4, 3, 2, 1, 1, 6, 4, 1, 8, 1, 1, 4, 1, 3, 2, 1, 2, 10, 1, 9, 1, 1, 2, 3, 3, 2, 1, 4, 3, 1, 2, 3, 4, 2, 7, 1, 2, 1, 5, 3, 2, 3, 7, 1, 2, 2, 1, 2, 6, 1, 1, 1, 1, 8, 1, 1, 1, 4, 1, 1, 4, 4, 1, 1, 1, 2, 3, 1, 1, 6, 1, 1, 2, 3, 1, 1, 1, 1, 3, 7, 1, 1, 3, 1, 3, 2, 1, 3, 2, 3, 1, 4, 1, 2, 1, 1, 1, 1, 1, 1, 1, 6, 1, 2, 1, 2, 2, 1, 3, 1, 2, 3, 1, 2, 1, 3, 4, 1, 3, 4, 2, 9, 1, 1, 1, 2, 8, 1, 1, 1, 1, 4, 2, 1, 1, 1, 1, 2, 1, 1, 2, 4, 2, 2, 8, 1, 7, 2, 1, 3, 1, 1, 2, 4, 10, 2, 1, 1, 1, 2, 6, 3, 3, 1, 1, 1, 4, 2, 1, 3, 1, 2, 4, 2, 6, 2, 1, 12, 1, 2, 1, 1, 3, 7, 1, 6, 5, 1, 1, 7, 4, 1, 5, 1, 1, 1, 2, 2, 7, 5, 1, 4, 3, 2, 3, 3, 2, 7, 1, 1, 8, 1, 6, 3, 1, 1, 1, 1, 2, 1, 1, 4, 1, 5, 1, 1, 5, 2, 1, 1, 3, 1, 3, 1, 3, 5, 2, 12, 6, 3, 8, 2, 5, 2, 1, 2, 1, 1, 2, 2, 1, 2, 2, 4, 4, 2, 13, 1, 1, 2, 1, 5, 3, 2, 1, 3, 2, 2, 3, 3, 1, 4, 6, 1, 1, 1, 1, 3, 12, 1, 2, 1, 2, 1, 4, 3, 1, 3, 1, 1, 1, 6, 4, 1, 1, 1, 3, 3, 1, 2, 9, 2, 1, 5, 1, 1, 9, 1, 5, 6, 1, 3, 1, 1, 1, 1, 1, 4, 1, 1, 2, 2, 1, 6, 1, 2, 1, 1, 1, 1, 2, 3, 1, 1, 2, 1, 6, 1, 1, 4, 1, 1, 4, 2, 3, 1, 3, 1, 2, 1, 2, 2, 3, 1, 2, 9, 2, 16, 4, 1, 1, 1, 1, 1, 3, 2, 6, 3, 2, 1, 1, 2, 2, 1, 1, 1, 1, 1, 2, 1, 3, 2, 1, 3, 1, 1, 1, 4, 1, 1, 1, 2, 2, 1, 7, 5, 1, 2, 2, 1, 4, 4, 2, 2, 1, 7, 3, 4, 1, 5, 1, 1, 1, 1, 2, 1, 1, 4, 1, 1, 5, 1, 1, 1, 6, 4, 1, 1, 1, 2, 1, 4, 1, 3, 1, 1, 8, 2, 1, 2, 2, 2, 1, 1, 6, 1, 2, 1, 2, 2, 1, 1, 1, 1, 1, 1, 1, 1, 2, 2, 3, 1, 2, 12, 4, 1, 5, 1, 2, 5, 5, 3, 11, 1, 4, 1, 2, 4, 4, 1, 3, 2, 2, 3, 6, 3, 2, 1, 5, 12, 8, 1, 1, 1, 1, 2, 3, 4, 2, 1, 1, 2, 3, 1, 5, 2, 3, 1, 3, 2, 2, 3, 2, 2, 1, 1, 1, 1, 1, 1, 1, 2, 2, 1, 1, 9, 1, 1, 3, 4, 4, 2, 1, 2, 1, 1, 1, 1, 1, 3, 5, 3, 1, 2, 3, 5, 1, 3, 1, 1, 2, 3, 2, 6, 2, 2, 8, 1, 8, 3, 1, 2, 2, 4, 1, 3, 1, 3, 1, 3, 6, 3, 1, 1, 1, 3, 1, 2, 2, 1, 2, 2, 1, 1, 2, 2, 2, 1, 1, 1, 1, 1, 2, 1, 1, 4, 1, 1, 2, 1, 1, 11, 3, 2, 2, 10, 1, 1, 2, 1, 1, 7, 3, 1, 4, 1, 1, 1, 2, 2, 3, 1, 10, 2, 1, 3, 2, 3, 3, 2, 2, 12, 1, 1, 2, 1, 1, 2, 1, 2, 1, 1, 3, 1, 1, 2, 2, 5, 2, 2, 2, 2, 1, 1, 2, 2, 8, 2, 1, 2, 2, 2, 4, 3, 2, 3, 7, 4, 2, 3, 2, 3, 1, 3, 5, 2, 2, 1, 3, 2, 1, 1, 1, 3, 1, 1, 2, 1, 2, 4, 10, 1, 1, 1, 2, 2, 1, 2, 1, 1, 2, 1, 4, 1, 1, 1, 1, 1, 2, 1, 1, 3, 1, 1, 2, 1, 1, 1, 2, 1, 1, 1, 1, 1, 4, 1, 5, 6, 1, 1, 1, 2, 1, 4, 2, 4, 4, 3, 1, 3, 2, 1, 1, 1, 1, 2, 1, 1, 1, 8, 2, 2, 4, 1, 3, 6, 6, 1, 1, 3, 1, 3, 6, 6, 4, 2, 2, 2, 4, 1, 2, 1, 1, 1, 2, 1, 1, 5, 1, 5, 2, 2, 1, 1, 1, 4, 2, 1, 6, 1, 1, 11, 5, 1, 1, 2, 6, 6, 3, 1, 1, 1, 2, 2, 5, 2, 2, 1, 2, 6, 2, 3, 1, 1, 1, 9, 3, 2, 1, 1, 1, 2, 1, 2, 1, 3, 2, 4, 2, 3, 2, 5, 1, 1, 2, 1, 1, 4, 1, 3, 1, 5, 2, 1, 4, 2, 1, 1, 1, 1, 1, 4, 1, 1, 1, 2, 2, 3, 2, 1, 2, 1, 1, 1, 2, 3, 3, 1, 3, 1, 1, 4, 1, 1, 1, 1, 1, 9, 3, 2, 1, 2, 1, 1, 8, 1, 4, 1, 1, 1, 1, 6, 1, 1, 1, 1, 1, 1, 4, 3, 3, 4, 1, 1, 2, 5, 2, 1, 1, 1, 2, 1, 1, 3, 1, 1, 8, 1, 2, 2, 1, 2, 1, 3, 1, 1, 1, 4, 1, 1, 1, 1, 1, 1, 1, 1, 2, 5, 3, 1, 2, 1, 4, 1, 1, 1, 1, 2, 1, 1, 2, 1, 1, 5, 1, 3, 1, 8, 9, 2, 3, 1, 2, 1, 1, 1, 1, 1, 1, 1, 1, 1, 1, 1, 1, 2, 1, 1, 1, 1, 1, 1, 6, 5, 2, 1, 4, 2, 1, 1, 2, 1, 1, 2, 1, 2, 1, 1, 1, 5, 8, 1, 2, 1, 1, 1, 2, 5, 3, 2, 1, 4, 1, 1, 1, 2, 2, 6, 1, 1, 1, 1, 1, 3, 2, 1, 1, 3, 3, 1, 1, 1, 1, 3, 2, 1, 1, 1, 5, 1, 2, 2, 1, 1, 1, 1, 1, 2, 3, 1, 1, 1, 3, 1, 1, 1, 2, 2, 1, 1, 1, 2, 4, 2, 1, 1, 1, 1, 1, 1, 1, 1, 1, 1, 4, 3, 1, 1, 1, 1, 2, 1, 1, 2, 2, 2, 4, 2, 2, 2, 2, 1, 3, 1, 1, 1, 1, 2, 1, 1, 2, 2, 1, 1, 1, 4, 1, 1, 1, 1, 1, 2, 4, 1, 1, 1, 2, 2, 1, 5, 2, 2, 2, 1, 3, 1, 4, 2, 2, 2, 4, 1, 1, 4, 4, 1, 3, 2, 1, 3, 1, 3, 3, 4, 2, 2, 2, 2, 3, 1, 1, 2, 3, 1, 1, 2, 10, 1, 4, 1, 1, 3, 3, 9, 1, 2, 1, 3, 5, 2, 2, 4, 1, 1, 1, 5, 1, 1, 1, 1, 2, 1, 2, 1, 2, 3, 2, 1, 2, 1, 1, 4, 1, 2, 2, 6, 2, 1, 1, 2, 3, 1, 3, 2, 3, 2, 1, 1, 6, 1, 1, 6, 1, 1, 2, 1, 2, 2, 1, 3, 1, 3, 1, 2, 1, 1, 4, 1, 1, 1, 1, 1, 1, 1, 1, 5, 3, 1, 3, 1, 1, 6, 1, 3, 1, 1, 2, 1, 2, 1, 2, 1, 1, 9, 1, 1, 1, 2, 1, 1, 2, 2, 2, 1, 3, 2, 1, 7, 3, 1, 1, 1, 9, 8, 7, 1, 1, 1, 1, 1, 1, 1, 2, 1, 3, 1, 1, 1, 1, 3, 2, 1, 4, 2, 2, 1, 1, 1, 1, 6, 1, 1, 3, 1, 2, 3, 2, 1, 1, 2, 2, 2, 1, 1, 1, 1, 1, 1, 3, 2, 4, 1, 1, 2, 1, 2, 3, 5, 8, 1, 3, 1, 1, 1, 1, 1, 5, 1, 1, 2, 1, 1, 2, 2, 1, 1, 1, 1, 1, 1, 1, 1, 1, 3, 1, 1, 1, 4, 1, 3, 1, 2, 1, 1, 4, 1, 1, 1, 1, 5, 2, 1, 1, 1, 1, 1, 1, 3, 1, 2, 2, 3, 2, 1, 1, 1, 1, 1, 1, 2, 1, 1, 2, 2, 3, 3, 2, 4, 1, 2, 3, 1, 1, 2, 1, 1, 2, 4, 1, 1, 6, 1, 1, 3, 3, 3, 1, 2, 1, 1, 1, 2, 1, 1, 1, 4, 3, 2, 1, 3, 4, 1, 4, 1, 1, 2, 2, 1, 4, 1, 3, 4, 1, 2, 4, 8, 4, 3, 4, 3, 1, 4, 2, 5, 1, 4, 1, 1, 3, 2, 4, 1, 1, 2, 3, 4, 1, 2, 1, 6, 1, 1, 3, 1, 1, 1, 2, 5, 8, 3, 3, 9, 1, 1, 2, 1, 1, 4, 1, 2, 1, 2, 5, 1, 3, 1, 1, 2, 2, 1, 1, 7, 3, 2, 2, 3, 1, 1, 1, 2, 1, 2, 1, 1, 1, 2, 2, 1, 3, 1, 2, 1, 2, 2, 2, 1, 2, 1, 2, 2, 1, 2, 1, 1, 2, 1, 4, 1, 1, 6, 12, 4, 2, 1, 1, 1, 3, 1, 1, 1, 1, 1, 4, 1, 1, 2, 2, 2, 3, 1, 2, 1, 6, 1, 1, 1, 1, 1, 1, 1, 4, 1, 1, 4, 1, 4, 1, 7, 2, 4, 2, 1, 3, 4, 2, 1, 1, 1, 1, 1, 1, 2, 1, 2, 1, 1, 1, 2, 1, 1, 1, 1, 1, 3, 3, 1, 1, 2, 1, 8, 5, 1, 4, 1, 2, 1, 4, 1, 1, 1, 1, 1, 1, 1, 1, 2, 3, 2, 2, 2, 1, 1, 3, 1, 1, 2, 1, 1, 4, 1, 5, 1, 2, 3, 3, 3, 3, 1, 2, 2, 1, 1, 1, 1, 1, 2, 3, 1, 3, 6, 1, 1, 1, 3, 6, 1, 1, 20, 1, 1, 2, 5, 5, 3, 3, 4, 2, 1, 2, 4, 1, 2, 5, 2, 1, 4, 2, 1, 1, 2, 1, 3, 5, 1, 2, 3, 1, 3, 1, 1, 1, 1, 2, 3, 1, 1, 6, 2, 1, 1, 4, 1, 4, 1, 1, 7, 6, 1, 2, 1, 2, 1, 1, 1, 3, 5, 1, 3, 2, 1, 4, 2, 1, 4, 2, 1, 3, 1, 3, 2, 3, 1, 2, 3, 1, 2, 2, 2, 1, 4, 1, 3, 5, 1, 2, 2, 3, 1, 1, 3, 1, 3, 2, 1, 2, 1, 1, 1, 1, 1, 4, 1, 1, 5, 1, 3, 2, 2, 8, 2, 2, 4, 1, 4, 9, 1, 5, 1, 1, 2, 5, 2, 1, 8, 3, 3, 1, 1, 1, 1, 1, 1, 1, 2, 1, 1, 1, 3, 11, 2, 1, 1, 4, 5, 1, 2, 1, 2, 1, 4, 1, 2, 1, 1, 3, 1, 2, 3, 2, 3, 1, 3, 1, 2, 1, 1, 1, 1, 2, 3, 2, 1, 2, 2, 1, 3, 5, 1, 3, 5, 2, 1, 1, 2, 1, 2, 1, 1, 1, 1, 1, 2, 3, 1, 1, 1, 2, 1, 2, 1, 2, 1, 3, 2, 1, 2, 1, 2, 2, 3, 2, 1, 3, 2, 4, 1, 2, 1, 7, 3, 2, 1, 4, 1, 1, 1, 1, 2, 12, 4, 1, 2, 3, 1, 1, 1, 1, 1, 1, 1, 1, 2, 1, 1, 3, 7, 1, 2, 1, 2, 3, 1, 1, 5, 4, 1, 3, 1, 3, 8, 2, 1, 1, 2, 1, 3, 2, 5, 4, 2, 3, 1, 2, 1, 2, 1, 13, 1, 9, 7, 5, 6, 4, 1, 6, 4, 7, 1, 1, 1, 1, 4, 3, 2, 2, 1, 3, 1, 2, 1, 3, 6, 10, 1, 2, 1, 4, 1, 1, 3, 5, 1, 2, 3, 1, 2, 1, 1, 2, 1, 1, 2, 1, 1, 1, 2, 1, 7, 1, 3, 1, 1, 1, 1, 2, 1, 5, 1, 1, 6, 1, 1, 1, 1, 1, 2, 3, 2, 2, 1, 1, 3, 1, 2, 1, 4, 1, 1, 3, 2, 1, 1, 2, 4, 1, 1, 1, 1, 1, 1, 1, 2, 5, 2, 3, 1, 1, 1, 3, 2, 1, 1, 1, 1, 2, 1, 2, 1, 2, 2, 3, 3, 2, 2, 2, 2, 2, 6, 1, 3, 1, 1, 1, 2, 1, 1, 1, 1, 1, 1, 1, 1, 2, 1, 2, 2, 2, 1, 2, 2, 3, 1, 1, 1, 1, 1, 1, 2, 2, 1, 2, 10, 1, 2, 1, 1, 1, 1, 1, 3, 2, 1, 3, 2, 6, 1, 2, 1, 1, 2, 1, 1, 1, 1, 1, 1, 2, 1, 1, 2, 3, 1, 1, 2, 1, 1, 4, 1, 2, 1, 1, 1, 1, 2, 3, 5, 1, 3, 2, 1, 1, 4, 2, 1, 1, 3, 1, 1, 2, 1, 3, 1, 1, 2, 1, 1, 2, 1, 1, 1, 1, 2, 2, 3, 1, 1, 1, 1, 1, 1, 1, 1, 3, 1, 1, 1, 3, 1, 1, 2, 3, 1, 4, 4, 3, 1, 1, 3, 3, 1, 2, 1, 3, 3, 1, 7, 1, 3, 5, 1, 1, 2, 1, 1, 1, 1, 2, 1, 1, 1, 3, 1, 2, 2, 6, 1, 4, 1, 1, 1, 1, 4, 1, 1, 3, 1, 3, 1, 2, 1, 1, 1, 2, 3, 2, 6, 1, 12, 1, 1, 1, 4, 3, 1, 4, 1, 5, 3, 1, 1, 1, 1, 3, 1, 1, 3, 1, 1, 1, 1, 4, 2, 3, 3, 1, 3, 1, 1, 1, 1, 1, 1, 11, 1, 3, 2, 4, 2, 2, 3, 1, 2, 5, 4, 3, 1, 2, 1, 1, 1, 1, 1, 1, 1, 1, 1, 1, 1, 2, 4, 8, 1, 1, 1, 4, 1, 1, 2, 1, 1, 2, 7, 1, 2, 3, 2, 1, 3, 1, 3, 7, 1, 1, 1, 1, 1, 1, 4, 2, 1, 1, 2, 1, 2, 2, 1, 2, 1, 10, 1, 2, 1, 1, 1, 5, 1, 1, 1, 3, 1, 2, 3, 2, 2, 3, 2, 3, 1, 2, 4, 1, 1, 3, 1, 4, 3, 2, 1, 1, 1, 1, 1, 1, 1, 1, 3, 1, 1, 1, 1, 1, 1, 6, 1, 1, 1, 1, 1, 1, 1, 1, 1, 1, 2, 2, 3, 1, 2, 4, 1, 4, 4, 1, 2, 1, 1, 12, 13, 6, 1, 1, 1, 1, 8, 1, 1, 3, 1, 1, 2, 5, 2, 1, 1, 2, 2, 1, 1, 1, 5, 1, 1, 1, 4, 2, 1, 1, 2, 1, 2, 3, 1, 2, 2, 3, 1, 1, 1, 1, 1, 1, 1, 3, 4, 4, 2, 1, 1, 1, 2, 1, 1, 1, 1, 3, 1, 7, 2, 1, 1, 2, 3, 3, 1, 1, 2, 1, 5, 2, 1, 6, 3, 1, 2, 1, 2, 1, 2, 10, 2, 1, 1, 1, 1, 2, 2, 1, 4, 2, 3, 3, 2, 2, 2, 1, 1, 1, 1, 1, 1, 2, 1, 3, 4, 2, 1, 2, 4, 1, 1, 1, 1, 1, 1, 1, 2, 2, 1, 1, 1, 2, 1, 2, 1, 1, 1, 1, 1, 2, 1, 1, 1, 3, 1, 1, 1, 3, 1, 1, 2, 2, 1, 1, 1, 3, 1, 1, 1, 1, 2, 1, 1, 1, 3, 3, 2, 2, 1, 2, 1, 1, 1, 2, 1, 2, 1, 1, 2, 1, 1, 1, 1, 1, 1, 1, 2, 1, 1, 1, 1, 1, 1, 1, 2, 1, 1, 2, 1, 2, 1, 1, 1, 1, 2, 1, 2, 2, 7, 1, 1, 2, 1, 1, 1, 1, 1, 1, 1, 1, 1, 1, 1, 1, 1, 1, 1, 2, 1, 2, 1, 2, 1, 1, 1, 1, 1, 2, 4, 1, 1, 1, 1, 1, 1, 7, 1, 2, 1, 1, 1, 3, 1, 4, 1, 1, 6, 2, 1, 1, 3, 5, 2, 1, 8, 6, 8, 1, 1, 2, 1, 1, 2, 1, 2, 1, 1, 1, 3, 3, 3, 1, 1, 2, 1, 1, 3, 1, 2, 1, 1, 1, 3, 2, 1, 1, 2, 2, 2, 3, 1, 3, 4, 2, 2, 2, 2, 1, 1, 1, 1, 1, 1, 1, 4, 7, 1, 1, 1, 2, 1, 2, 1, 1, 2, 3, 1, 4, 1, 1, 8, 1, 1, 3, 2, 1, 2, 1, 4, 2, 1, 1, 1, 2, 1, 1, 1, 1, 1, 2, 1, 1, 1, 1, 1, 1, 1, 1, 1, 9, 1, 1, 1, 1, 3, 3, 1, 2, 1, 2, 1, 2, 2, 1, 1, 5, 1, 2, 1, 1, 3, 3, 1, 1, 1, 1, 1, 1, 1, 1, 1, 3, 1, 4, 1, 1, 1, 3, 1, 5, 1, 1, 3, 1, 1, 1, 2, 1, 1, 2, 3, 1, 1, 1, 1, 1, 1, 2, 1, 1, 2, 2, 1, 1, 1, 1, 1, 1, 1, 1, 1, 1, 3, 1, 1, 1, 1, 1, 1, 3, 4, 1, 1, 2, 3, 1, 1, 1, 1, 1, 1, 2, 2, 1, 1, 2, 1, 1, 1, 1, 1, 3, 2, 2, 2, 6, 1, 1, 1, 1, 3, 2, 3, 2, 1, 2, 6, 1, 2, 1, 1, 5, 1, 9, 3, 2, 2, 1, 1, 1, 1, 4, 1, 2, 6, 1, 1, 2, 1, 1, 1, 1, 1, 2, 1, 1, 3, 1, 3, 1, 1, 2, 2, 1, 1, 1, 3, 1, 1, 2, 1, 1, 1, 3, 1, 2, 2, 1, 2, 1, 1, 2, 2, 3, 1, 1, 9, 1, 2, 2, 1, 1, 1, 1, 1, 3, 1, 2, 1, 1, 1, 1, 2, 2, 1, 2, 1, 3, 1, 1, 4, 2, 1, 1, 1, 2, 1, 1, 1, 1, 1, 2, 1, 4, 2, 1, 2, 1, 1, 1, 1, 1, 1, 1, 1, 1, 1, 1, 1, 1, 1, 2, 1, 1, 1, 1, 1, 1, 3, 1, 2, 1, 2, 1, 1, 1, 2, 2, 2, 2, 1, 1, 1, 1, 1, 1, 2, 2, 2, 1, 1, 1, 1, 7, 1, 1, 1, 3, 2, 1, 1, 2, 1, 2, 7, 1, 2, 1, 1, 1, 1, 1, 1, 1, 3, 2, 1, 1, 1, 2, 2, 5, 3, 1, 1, 2, 2, 5, 1, 2, 1, 10, 3, 1, 7, 2, 4, 1, 1, 1, 1, 1, 1, 1, 1, 2, 3, 4, 1, 1, 1, 1, 5, 1, 1, 1, 1, 1, 3, 2, 1, 1, 1, 2, 1, 1, 2, 1, 5, 2, 1, 1, 2, 1, 2, 1, 2, 2, 2, 1, 1, 1, 1, 4, 2, 1, 2, 2, 2, 1, 1, 1, 1, 4, 1, 1, 1, 2, 1, 1, 1, 1, 1, 3, 1, 2, 1, 1, 1, 2, 1, 2, 1, 1, 2, 1, 1, 1, 1, 2, 2, 2, 1, 1, 1, 2, 2, 2, 1, 1, 2, 1, 2, 3, 2, 3, 4, 1, 4, 2, 1, 3, 2, 2, 1, 1, 1, 1, 1, 2, 1, 2, 1, 2, 1, 2, 1, 3, 1, 1, 1, 1, 1, 1, 1, 1, 1, 2, 2, 3, 1, 1, 2, 1, 3, 1, 1, 1, 3, 1, 1, 2, 1, 1, 2, 2, 5, 1, 2, 2, 1, 1, 1, 1, 1, 1, 1, 1, 1, 1, 2, 2, 2, 1, 1, 1, 1, 1, 2, 1, 3, 2, 1, 1, 1, 1, 1, 2, 1, 1, 1, 1, 1, 1, 1, 2, 5, 1, 1, 1, 1, 1, 1, 3, 1, 1, 2, 2, 1, 1, 2, 1, 2, 1, 2, 1, 1, 2, 1, 1, 1, 1, 1, 1, 1, 2, 1, 1, 2, 1, 1, 2, 1, 1, 4, 1, 1, 1, 7, 2, 2, 3, 1, 2, 1, 1, 6, 2, 3, 2, 1, 1, 1, 5, 1, 3, 2, 2, 6, 1, 1, 5, 3, 1, 1, 2, 3, 6, 2, 1, 3, 1, 4, 1, 4, 4, 1, 2, 1, 1, 3, 3, 1, 2, 1, 2, 1, 1, 1, 1, 1, 1, 1, 2, 2, 5, 3, 3, 1, 1, 1, 1, 2, 1, 1, 1, 1, 1, 1, 1, 1, 1, 1, 1, 2, 3, 1, 1, 1, 1, 1, 2, 2, 2, 1, 2, 1, 1, 1, 1, 1, 1, 3, 2, 3, 1, 1, 2, 2, 1, 1, 1, 3, 3, 1, 2, 1, 1, 1, 1, 1, 1, 1, 1, 1, 3, 1, 1, 1, 1, 1, 1, 3, 2, 1, 2, 1, 1, 1, 1, 2, 1, 1, 1, 1, 1, 1, 5, 1, 1, 1, 1, 1, 2, 2, 1, 1, 1, 1, 1, 1, 1, 2, 1, 1, 1, 1, 1, 1, 2, 1, 2, 1, 1, 1, 1, 1, 2, 1, 1, 3, 1, 1, 1, 1, 1, 1, 1, 4, 2, 1, 1, 1, 1, 2, 2, 1, 2, 1, 1, 1, 1, 1, 1, 1, 1, 1, 6, 1, 1, 1, 2, 1, 1, 1, 1, 1, 1, 2, 4, 1, 1, 1, 1, 1, 1, 1, 1, 1, 2, 1, 1, 1, 3, 2, 4, 1, 1, 2, 3, 3, 1, 1, 1, 3, 1, 6, 1, 2, 1, 3, 1, 1, 2, 1, 1, 3, 5, 4, 3, 1, 1, 2, 2, 2, 2, 3, 4, 1, 2, 1, 1, 2, 1, 6, 2, 7, 3, 2, 1, 1, 1, 1, 2, 1, 1, 3, 1, 2, 3, 1, 2, 1, 1, 2, 1, 1, 1, 1, 1, 2, 1, 1, 1, 1, 1, 5, 1, 1, 2, 1, 1, 1, 2, 3, 1, 1, 2, 2, 1, 4, 2, 1, 2, 1, 2, 2, 1, 1, 1, 1, 1, 2, 1, 2, 1, 1, 1, 1, 1, 2, 1, 1, 1, 1, 1, 2, 2, 2, 4, 1, 2, 1, 1, 1, 1, 2, 4, 2, 2, 1, 1, 1, 1, 2, 1, 2, 4, 1, 3, 1, 2, 2, 1, 1, 1, 1, 1, 1, 2, 1, 1, 1, 1, 1, 1, 1, 1, 1, 4, 1, 1, 1, 1, 2, 1, 1, 1, 1, 1, 2, 4, 1, 1, 1, 1, 1, 2, 1, 1, 4, 1, 1, 1, 2, 1, 1, 1, 1, 1, 1, 2, 1, 1, 1, 1, 1, 1, 1, 1, 1, 1, 1, 6, 1, 1, 1, 2, 1, 1, 2, 3, 1, 1, 2, 3, 1, 2, 1, 1, 5, 2, 6, 1, 1, 1, 1, 1, 4, 1, 1, 2, 5, 1, 2, 1, 1, 1, 1, 2, 1, 2, 3, 1, 4, 1, 1, 1, 1, 1, 1, 1, 1, 1, 4, 1, 1, 2, 2, 1, 4, 1, 1, 1, 1, 1, 2, 1, 1, 2, 1, 1, 2, 1, 2, 2, 1, 1, 2, 2, 1, 2, 2, 1, 1, 1, 1, 2, 1, 1, 3, 1, 1, 1, 1, 2, 1, 1, 1, 2, 2, 1, 1, 1, 1, 2, 1, 2, 3, 1, 1, 1, 2, 1, 6, 1, 1, 1, 1, 1, 1, 3, 1, 2, 1, 2, 4, 2, 1, 1, 1, 1, 1, 2, 1, 1, 1, 2, 1, 1, 1, 1, 2, 4, 1, 2, 1, 1, 1, 1, 2, 1, 3, 1, 1, 1, 1, 1, 1, 1, 1, 1, 1, 1, 1, 1, 1, 2, 1, 1, 1, 1, 1, 7, 1, 1, 1, 1, 1, 1, 1, 4, 2, 1, 2, 1, 1, 1, 1, 1, 1, 1, 1, 1, 1, 1, 1, 2, 1, 1, 3, 1, 1, 2, 2, 1, 1, 1, 1, 2, 1, 1, 1, 1, 1, 1, 1, 1, 1, 1, 3, 1, 1, 3, 4, 1, 3, 1, 2, 2, 3, 1, 1, 1, 1, 1, 2, 2, 1, 2, 3, 1, 5, 3, 1, 1, 3, 1, 1, 2, 2, 2, 1, 2, 1, 1, 1, 2, 3, 3, 2, 1, 1, 1, 5, 2, 1, 1, 2, 1, 1, 1, 1, 2, 1, 3, 1, 3, 1, 1, 1, 4, 1, 2, 3, 1, 1, 7, 2, 1, 2, 1, 1, 1, 1, 5, 2, 1, 1, 1, 1, 1, 3, 1, 1, 1, 1, 2, 1, 2, 2, 1, 2, 1, 3, 2, 1, 3, 1, 1, 1, 1, 1, 1, 4, 1, 1, 1, 2, 1, 2, 2, 1, 7, 3, 1, 1, 1, 1, 2, 1, 1, 1, 3, 1, 1, 1, 1, 1, 1, 1, 1, 1, 1, 2, 2, 1, 1, 1, 2, 1, 3, 1, 1, 3, 1, 1, 1, 1, 1, 1, 1, 1, 2, 1, 1, 1, 1, 1, 2, 1, 1, 1, 1, 1, 1, 1, 1, 1, 1, 2, 1, 1, 1, 1, 1, 1, 1, 4, 1, 3, 1, 1, 1, 1, 5, 4, 1, 3, 2, 1, 1, 2, 4, 5, 1, 2, 1, 1, 1, 1, 1, 2, 1, 2, 3, 2, 1, 2, 4, 2, 2, 1, 1, 1, 1, 1, 1, 3, 1, 1, 5, 1, 2, 3, 1, 1, 2, 3, 1, 1, 1, 2, 2, 1, 2, 1, 1, 1, 3, 3, 1, 1, 4, 1, 1, 1, 1, 1, 1, 1, 1, 1, 1, 1, 2, 2, 1, 2, 1, 1, 1, 1, 2, 1, 1, 1, 3, 1, 2, 3, 1, 1, 1, 1, 1, 2, 1, 1, 1, 1, 3, 2, 1, 2, 1, 1, 1, 2, 1, 2, 2, 1, 1, 1, 1, 2, 1, 1, 1, 1, 2, 2, 1, 1, 2, 2, 1, 1, 1, 2, 1, 3, 1, 1, 1, 4, 1, 1, 1, 1, 2, 2, 1, 4, 1, 1, 1, 1, 1, 1, 1, 4, 1, 2, 2, 1, 1, 1, 1, 1, 1, 1, 2, 1, 1, 1, 1, 1, 1, 1, 1, 1, 1, 1, 1, 2, 1, 1, 1, 2, 1, 2, 1, 1, 1, 1, 1, 1, 1, 1, 1, 1, 1, 1, 1, 1, 1, 2, 1, 1, 2, 1, 1, 1, 2, 2, 1, 1, 4, 3, 4, 3, 3, 5, 3, 1, 1, 2, 1, 1, 1, 1, 1, 2, 2, 1, 1, 2, 1, 1, 1, 3, 1, 3, 2, 1, 1, 1, 3, 3, 1, 1, 1, 2, 1, 2, 1, 1, 1, 2, 1, 1, 1, 1, 1, 2, 1, 1, 1, 1, 1, 1, 1, 1, 1, 2, 1, 2, 3, 1, 1, 1, 2, 1, 1, 2, 1, 1, 1, 1, 2, 1, 1, 1, 2, 1, 1, 1, 1, 2, 1, 1, 1, 1, 1, 1, 1, 1, 1, 2, 1, 1, 1, 1, 1, 1, 1, 2, 1, 1, 1, 1, 1, 2, 2, 1, 1, 1, 1, 1, 1, 2, 1, 1, 1, 1, 1, 1, 1, 1, 1, 2, 1, 1, 3, 2, 1, 1, 4, 1, 1, 1, 2, 1, 1, 1, 1, 1, 1, 1, 1, 1, 1, 1, 1, 1, 1, 1, 1, 1, 1, 1, 1, 1, 1, 1, 1, 1, 1, 1, 1, 1, 1, 1, 1, 1, 1, 1, 1, 1, 1, 2, 1, 4, 1, 1, 1, 1, 5, 1, 1, 3, 1, 1, 2, 1, 1, 1, 1, 2, 2, 1, 1, 3, 3, 1, 1, 1, 2, 3, 1, 1, 1, 1, 2, 4, 1, 2, 3, 2, 1, 1, 1, 1, 1, 2, 1, 1, 1, 1, 1, 1, 1, 1, 1, 1, 1, 1, 1, 1, 1, 1, 2, 1, 1, 1, 2, 1, 1, 1, 1, 1, 3, 1, 2, 1, 1, 1, 1, 1, 2, 1, 1, 1, 1, 1, 2, 1, 1, 1, 2, 3, 1, 2, 1, 2, 1, 3, 3, 2, 1, 1, 5, 1, 1, 2, 1, 1, 1, 1, 1, 1, 1, 1, 1, 1, 3, 1, 2, 1, 1, 2, 1, 1, 1, 2, 1, 2, 1, 3, 1, 1, 1, 1, 1, 1, 3, 1, 1, 1, 1, 1, 1, 2, 1, 1, 1, 2, 1, 1, 1, 1, 1, 1, 1, 2, 1, 1, 1, 1, 2, 1, 1, 1, 1, 1, 1, 1, 1, 1, 1, 1, 1, 1, 1, 1, 1, 1, 1, 4, 7, 1, 2, 1, 3, 1, 3, 1, 8, 1, 1, 2, 2, 1, 2, 1, 3, 2, 5, 3, 1, 1, 1, 1, 2, 2, 1, 1, 1, 1, 1, 1, 1, 1, 1, 1, 1, 2, 1, 1, 1, 1, 1, 1, 3, 1, 1, 2, 1, 1, 1, 3, 1, 2, 1, 3, 2, 1, 2, 1, 1, 1, 2, 1, 1, 1, 1, 1, 3, 4, 1, 8, 1, 2, 1, 4, 1, 1, 1, 2, 1, 2, 1, 1, 1, 1, 1, 2, 1, 1, 2, 1, 1, 1, 2, 1, 1, 1, 5, 2, 1, 2, 1, 1, 1, 1, 1, 1, 1, 1, 2, 1, 1, 1, 1, 1, 1, 1, 1, 1, 1, 1, 1, 1, 3, 1, 1, 1, 1, 1, 1, 3, 1, 1, 1, 1, 1, 1, 1, 1, 1, 3, 1, 1, 2, 1, 1, 1, 2, 1, 1, 2, 1, 1, 1, 1, 1, 1, 1, 1, 1, 1, 1, 1, 1, 2, 1, 1, 1, 2, 2, 1, 1, 1, 1, 1, 1, 1, 1, 1, 2, 1, 1, 1, 1, 1, 1, 1, 1, 1, 1, 1, 1, 1, 3, 1, 1, 1, 1, 2, 1, 2, 2, 1, 1, 2, 2, 1, 2, 3, 1, 1, 2, 1, 1, 1, 2, 1, 1, 1, 1, 1, 1, 1, 1, 1, 1, 1, 1, 1, 3, 1, 2, 2, 1, 1, 1, 2, 4, 1, 1, 1, 1, 1, 1, 2, 2, 1, 1, 1, 2, 1, 1, 3, 2, 4, 1, 1, 1, 1, 3, 1, 1, 1, 1, 2, 1, 1, 1, 3, 1, 1, 1, 1, 1, 3, 1, 1, 1, 2, 1, 1, 1, 1, 1, 1, 1, 2, 3, 1, 1, 2, 1, 1, 1, 1, 2, 1, 1, 1, 1, 1, 1, 1, 1, 1, 1, 1, 1, 1, 2, 1, 2, 1, 1, 1, 1, 2, 1, 1, 1, 1, 1, 1, 1, 1, 1, 2, 1, 2, 1, 1, 1, 1, 1, 1, 1, 1, 1, 1, 1, 1, 1, 1, 1, 1, 1, 1, 1, 2, 1, 1, 7, 1, 1, 1, 1, 1, 1, 2, 2, 1, 1, 1, 1, 1, 1, 1, 2, 1, 1, 1, 1, 1, 1, 1, 3, 1, 1, 1, 4, 1, 1, 1, 1, 1, 1, 1, 3, 1, 1, 2, 3, 1, 1, 1, 1, 4, 1, 1, 2, 1, 1, 2, 1, 1, 1, 2, 1, 1, 3, 1, 1, 1, 1, 1, 1, 1, 1, 1, 2, 1, 1, 1, 1, 1, 1, 1, 1, 1, 1, 2, 1, 1, 1, 1, 1, 1, 1, 1, 1, 2, 2, 2, 1, 1, 1, 2, 1, 1, 1, 1, 1, 1, 1, 1, 1, 1, 1, 1, 1, 1, 1, 1, 1, 1, 1, 1, 1, 1, 1, 1, 1, 1, 1, 1, 1, 1, 1, 1, 2, 1, 1, 1, 1, 1, 1, 1, 1, 2, 1, 1, 1, 1, 1, 2, 1, 1, 1, 1, 1, 1, 1, 1, 1, 1, 1, 1, 1, 1, 3, 1, 1, 1, 1, 1, 1, 1, 2, 1, 1, 1, 3, 1, 2, 1, 1, 1, 1, 1, 1, 1, 1, 1, 1, 2, 2, 2, 1, 1, 1, 2, 1, 1, 1, 1, 3, 1, 1, 1, 1, 1, 1, 1, 1, 2, 3, 1, 2, 2, 1, 1, 1, 1, 1, 1, 1, 2, 1, 1, 1, 1, 1, 1, 1, 1, 1, 2, 1, 1, 1, 1, 1, 2, 1, 1, 1, 2, 1, 1, 1, 1, 1, 1, 1, 3, 2, 1, 2, 1, 1, 1, 1, 1, 1, 1, 1, 1, 1, 2, 3, 1, 1, 1, 1, 1, 1, 1, 1, 1, 1, 1, 1, 1, 1, 1, 1, 1, 1, 1, 2, 1, 1, 1, 1, 1, 1, 1, 1, 1, 1, 1, 1, 1, 1, 1, 1, 1, 1, 1, 1, 1, 1, 2, 1, 2, 1, 4, 1, 1, 1, 1, 1, 1, 2, 1, 1, 2, 2, 2, 2, 1, 1, 1, 2, 2, 1, 1, 2, 3, 2, 1, 1, 1, 1, 1, 2, 1, 1, 1, 1, 3, 1, 1, 1, 1, 1, 2, 1, 1, 1, 1, 2, 1, 1, 2, 1, 1, 1, 1, 1, 1, 1, 1, 1, 1, 1, 1, 1, 3, 1, 1, 1, 1, 2, 1, 1, 1, 1, 1, 1, 1, 1, 1, 2, 1, 1, 1, 1, 1, 1, 1, 1, 1, 1, 1, 1, 1, 1, 1, 1, 1, 1, 2, 2, 3, 1, 2, 1, 2, 1, 1, 1, 1, 1, 1, 1, 1, 1, 1, 2, 1, 1, 1, 1, 1, 1, 1, 1, 1, 1, 1, 1, 1, 1, 1, 1, 1, 1, 1, 1, 1, 1, 1, 1, 1, 1, 2, 1, 1, 1, 1, 1, 1, 1, 1, 1, 1, 1, 1, 1, 1, 1, 1, 1, 1, 1, 1, 1, 1, 1, 1, 1, 1, 2, 1, 1, 1, 2, 1, 1, 1, 1, 1, 1, 1, 1]\n"
     ]
    }
   ],
   "source": [
    "mapped_hashes = [ all_data_hashes[h] if h in all_data_hashes else len(all_data_cleaned) for h in hashes]\n",
    "print(len(mapped_hashes))\n",
    "counter = collections.Counter(mapped_hashes)\n",
    "c_values = list(counter.values())\n",
    "plt.bar([i for i in range(len(c_values))], c_values)\n",
    "plt.show()\n",
    "print(c_values)"
   ]
  },
  {
   "cell_type": "code",
   "execution_count": 44,
   "metadata": {},
   "outputs": [],
   "source": [
    "# print(all_data_hashes)"
   ]
  },
  {
   "cell_type": "code",
   "execution_count": 45,
   "metadata": {},
   "outputs": [
    {
     "data": {
      "image/png": "[encoded data removed]",
      "text/plain": [
       "<Figure size 432x288 with 1 Axes>"
      ]
     },
     "metadata": {
      "needs_background": "light"
     },
     "output_type": "display_data"
    }
   ],
   "source": [
    "hist1 = np.histogram(mapped_hashes,bins = len(all_data_cleaned))\n",
    "plt.bar([i for i in range(len(hist1[0]))], hist1[0])\n",
    "fig_name = os.path.join(vis_path, \"frequencies\")\n",
    "plt.savefig(fig_name,bbox_inches='tight', facecolor=(1, 1, 1))\n",
    "plt.show()\n"
   ]
  },
  {
   "cell_type": "code",
   "execution_count": 46,
   "metadata": {},
   "outputs": [
    {
     "name": "stdout",
     "output_type": "stream",
     "text": [
      "[29 14 18 ...  0  0  1]\n",
      "29281\n"
     ]
    }
   ],
   "source": [
    "print(hist1[0])\n",
    "print(len(hist1[0]))\n"
   ]
  },
  {
   "cell_type": "code",
   "execution_count": 47,
   "metadata": {},
   "outputs": [
    {
     "name": "stdout",
     "output_type": "stream",
     "text": [
      "(array([29, 14, 18, ...,  0,  0,  1], dtype=int64), array([0.00000000e+00, 9.99863393e-01, 1.99972679e+00, ...,\n",
      "       2.92750003e+04, 2.92760001e+04, 2.92770000e+04]))\n"
     ]
    }
   ],
   "source": [
    "print(hist1)\n"
   ]
  },
  {
   "cell_type": "code",
   "execution_count": 48,
   "metadata": {},
   "outputs": [
    {
     "name": "stdout",
     "output_type": "stream",
     "text": [
      "Mean: 1.5189726425082823\n",
      "Median: 0.0\n",
      "Std: 3.603344467583437\n",
      "Max: 82\n",
      "Max index: 25021\n",
      "Distance from uniform distribution: 269.1872873895944\n",
      "Uni to Uni: 1.82182985553772\n"
     ]
    }
   ],
   "source": [
    "uni = np.random.randint(0,542,len(all_data))\n",
    "uni2 = np.random.randint(0,542,len(all_data))\n",
    "m_mean =np.mean(hist1[0][:-2])\n",
    "m_median =np.median(hist1[0][:-2])\n",
    "m_std = np.std(hist1[0][:-2])\n",
    "m_max = np.max(hist1[0][:-2])\n",
    "m_max_ix = np.argmax(hist1[0])\n",
    "m_wasser = wasserstein_distance(uni,hist1[0][:-2])\n",
    "print(\"Mean: \" + str(m_mean))\n",
    "print(\"Median: \" + str(m_median))\n",
    "print(\"Std: \" + str(m_std))\n",
    "print(\"Max: \" + str(m_max))\n",
    "print(\"Max index: \" + str(m_max_ix))\n",
    "print(\"Distance from uniform distribution: \" + str(m_wasser))\n",
    "print(\"Uni to Uni: \" + str(wasserstein_distance(uni,uni2)))\n",
    "dir_name = Path(p).parent.name\n",
    "\n",
    "# csv_file_path = \"s2.csv\"\n",
    "with open(csv_file_path, 'a+', newline='') as csv_file:\n",
    "    writer = csv.writer(csv_file, delimiter = ';' )\n",
    "    writer.writerow([dir_name,args.model, last_epoch[0], args.nz, args.hs,  args.beta,m_mean, m_median, m_std,m_max, m_wasser, len(valid)])\n",
    "\n"
   ]
  },
  {
   "cell_type": "code",
   "execution_count": 49,
   "metadata": {},
   "outputs": [
    {
     "name": "stdout",
     "output_type": "stream",
     "text": [
      "29281\n"
     ]
    },
    {
     "data": {
      "text/plain": [
       "<BarContainer object of 543 artists>"
      ]
     },
     "execution_count": 49,
     "metadata": {},
     "output_type": "execute_result"
    },
    {
     "data": {
      "image/png": "[encoded data removed]",
      "text/plain": [
       "<Figure size 432x288 with 1 Axes>"
      ]
     },
     "metadata": {
      "needs_background": "light"
     },
     "output_type": "display_data"
    }
   ],
   "source": [
    "# print(uni)\n",
    "print(len(uni))\n",
    "hist2 = np.histogram(uni, bins=543)\n",
    "plt.bar([i for i in range(len(hist2[0]))], hist2[0])"
   ]
  },
  {
   "cell_type": "code",
   "execution_count": 50,
   "metadata": {},
   "outputs": [
    {
     "ename": "NameError",
     "evalue": "name 'decode_ix' is not defined",
     "output_type": "error",
     "traceback": [
      "\u001b[1;31m---------------------------------------------------------------------------\u001b[0m",
      "\u001b[1;31mNameError\u001b[0m                                 Traceback (most recent call last)",
      "\u001b[1;32mc:\\Users\\gép\\Desktop\\Egyetem\\TDK\\GraphGenTry\\D-VAE\\visualize.ipynb Cell 24\u001b[0m in \u001b[0;36m<cell line: 2>\u001b[1;34m()\u001b[0m\n\u001b[0;32m      <a href='vscode-notebook-cell:/c%3A/Users/g%C3%A9p/Desktop/Egyetem/TDK/GraphGenTry/D-VAE/visualize.ipynb#X45sZmlsZQ%3D%3D?line=0'>1</a>\u001b[0m \u001b[39mfrom\u001b[39;00m \u001b[39mscipy\u001b[39;00m \u001b[39mimport\u001b[39;00m stats\n\u001b[1;32m----> <a href='vscode-notebook-cell:/c%3A/Users/g%C3%A9p/Desktop/Egyetem/TDK/GraphGenTry/D-VAE/visualize.ipynb#X45sZmlsZQ%3D%3D?line=1'>2</a>\u001b[0m \u001b[39mprint\u001b[39m(stats\u001b[39m.\u001b[39mmode(decode_ix))\n",
      "\u001b[1;31mNameError\u001b[0m: name 'decode_ix' is not defined"
     ]
    }
   ],
   "source": [
    "from scipy import stats\n",
    "print(stats.mode(decode_ix))"
   ]
  },
  {
   "cell_type": "code",
   "execution_count": null,
   "metadata": {},
   "outputs": [],
   "source": [
    "test_g = all_data[0]\n",
    "print(test_g)\n",
    "print(test_g.get_adjacency())\n",
    "flat_list = [item for sublist in test_g.get_adjacency()[1:] for item in sublist[:-1]]\n",
    "print(flat_list)\n",
    "print(len(flat_list))\n",
    "print(test_g.vs[\"type\"])\n",
    "hash_list = flat_list + test_g.vs[\"type\"]\n",
    "print(hash_list)\n",
    "hash_list_str = ''.join(map(str,hash_list))\n",
    "print(int(hash_list_str))"
   ]
  },
  {
   "cell_type": "code",
   "execution_count": null,
   "metadata": {},
   "outputs": [],
   "source": [
    "Zs_valid = np.array(Zs_valid)\n",
    "print(Zs_valid.shape)\n",
    "\n",
    "pca = PCA(n_components=2)\n",
    "sampled_components = pca.fit_transform(Zs_valid)\n",
    "# plt.scatter(components[:,0], components[:,1], c=extended[:,6])\n",
    "\n",
    "plt.scatter(sampled_components[:,0], sampled_components[:,1], c=decode_ix)\n",
    "fig_name = os.path.join(vis_path, \"sampled\")\n",
    "plt.savefig(fig_name,bbox_inches='tight', facecolor=(1, 1, 1))\n",
    "\n",
    "# plt.scatter(Zs_valid[:,0], Zs_valid[:,1], c=decode_ix)"
   ]
  },
  {
   "cell_type": "code",
   "execution_count": null,
   "metadata": {},
   "outputs": [],
   "source": [
    "most_common = counter.most_common(1)[0][0]\n",
    "print(most_common)\n",
    "\n",
    "to_print = [ix for ix in range(len(decode_ix)) if decode_ix[ix] == most_common]\n",
    "print(len(to_print))\n",
    "Zs_valid_filtered = [Zs_valid[x] for x in range(len(Zs_valid)) if x in to_print]\n",
    "print(len(Zs_valid_filtered))\n",
    "Zs_valid_filtered = np.array(Zs_valid_filtered)\n",
    "plt.scatter(Zs_valid_filtered[:,0], Zs_valid_filtered[:,1])"
   ]
  },
  {
   "cell_type": "code",
   "execution_count": null,
   "metadata": {},
   "outputs": [],
   "source": [
    "Zs_invalid = np.array(Zs_invalid)\n",
    "print(Zs_invalid.shape)\n",
    "plt.scatter(Zs_invalid[:,0], Zs_invalid[:,1])"
   ]
  }
 ],
 "metadata": {
  "kernelspec": {
   "display_name": "base",
   "language": "python",
   "name": "python3"
  },
  "language_info": {
   "codemirror_mode": {
    "name": "ipython",
    "version": 3
   },
   "file_extension": ".py",
   "mimetype": "text/x-python",
   "name": "python",
   "nbconvert_exporter": "python",
   "pygments_lexer": "ipython3",
   "version": "3.8.5"
  },
  "orig_nbformat": 4,
  "vscode": {
   "interpreter": {
    "hash": "f6d90665ba09a631d2e0788064413436ce8633529c567dccb74c1cf82e75b6a7"
   }
  }
 },
 "nbformat": 4,
 "nbformat_minor": 2
}
