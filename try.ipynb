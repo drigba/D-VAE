{
 "cells": [
  {
   "cell_type": "code",
   "execution_count": 7,
   "metadata": {},
   "outputs": [
    {
     "name": "stdout",
     "output_type": "stream",
     "text": [
      "[tensor([[-0.8286,  1.7147,  0.8366],\n",
      "        [ 0.4602,  2.8007,  1.8288]]), tensor([[-0.9708, -0.2743, -0.6511],\n",
      "        [-1.1926, -1.1932, -1.1061]])]\n",
      "tensor([[-0.8286,  1.7147,  0.8366, -0.9708, -0.2743, -0.6511],\n",
      "        [ 0.4602,  2.8007,  1.8288, -1.1926, -1.1932, -1.1061]])\n"
     ]
    }
   ],
   "source": [
    "import torch\n",
    "x = torch.randn(2, 3)\n",
    "x2 = torch.randn(2, 3)\n",
    "a_x = [x,x2]\n",
    "print(a_x)\n",
    "y = torch.cat(a_x,1)\n",
    "print(y)"
   ]
  },
  {
   "cell_type": "code",
   "execution_count": 14,
   "metadata": {},
   "outputs": [
    {
     "name": "stdout",
     "output_type": "stream",
     "text": [
      "tensor([ 0.8145,  0.5932, -1.5644])\n",
      "tensor([[ 0.8145],\n",
      "        [ 0.5932],\n",
      "        [-1.5644]])\n",
      "tensor([[ 0.8145,  0.5932, -1.5644]])\n"
     ]
    }
   ],
   "source": [
    "x = torch.randn(3)\n",
    "print(x)\n",
    "print(x.unsqueeze(1))\n",
    "print(x.unsqueeze(0))"
   ]
  },
  {
   "cell_type": "code",
   "execution_count": 30,
   "metadata": {},
   "outputs": [
    {
     "name": "stdout",
     "output_type": "stream",
     "text": [
      "tensor([[-0.3046,  0.7707, -0.7061, -0.3046,  0.7707, -0.7061, -0.3046,  0.7707,\n",
      "         -0.7061, -0.3046,  0.7707, -0.7061, -0.3046,  0.7707, -0.7061, -0.3046,\n",
      "          0.7707, -0.7061],\n",
      "        [-0.3046,  0.7707, -0.7061, -0.3046,  0.7707, -0.7061, -0.3046,  0.7707,\n",
      "         -0.7061, -0.3046,  0.7707, -0.7061, -0.3046,  0.7707, -0.7061, -0.3046,\n",
      "          0.7707, -0.7061],\n",
      "        [-0.3046,  0.7707, -0.7061, -0.3046,  0.7707, -0.7061, -0.3046,  0.7707,\n",
      "         -0.7061, -0.3046,  0.7707, -0.7061, -0.3046,  0.7707, -0.7061, -0.3046,\n",
      "          0.7707, -0.7061]])\n",
      "tensor([[-0.3046,  0.7707, -0.7061, -0.3046,  0.7707, -0.7061, -0.3046,  0.7707,\n",
      "         -0.7061, -0.3046,  0.7707, -0.7061],\n",
      "        [-0.3046,  0.7707, -0.7061, -0.3046,  0.7707, -0.7061, -0.3046,  0.7707,\n",
      "         -0.7061, -0.3046,  0.7707, -0.7061],\n",
      "        [-0.3046,  0.7707, -0.7061, -0.3046,  0.7707, -0.7061, -0.3046,  0.7707,\n",
      "         -0.7061, -0.3046,  0.7707, -0.7061]])\n",
      "tensor([[-0.3046,  0.7707, -0.7061, -0.3046,  0.7707, -0.7061],\n",
      "        [-0.3046,  0.7707, -0.7061, -0.3046,  0.7707, -0.7061],\n",
      "        [-0.3046,  0.7707, -0.7061, -0.3046,  0.7707, -0.7061]])\n"
     ]
    }
   ],
   "source": [
    "x = torch.randn(3)\n",
    "y = x.repeat(2)\n",
    "z = y.unsqueeze(0)\n",
    "w = z.repeat(3,3)\n",
    "w_b = z.repeat(3,2)\n",
    "w_a = z.repeat(3,1)\n",
    "# print(x)\n",
    "# print(y)\n",
    "# print(z)\n",
    "print(w)\n",
    "print(w_b)\n",
    "print(w_a)\n",
    "# repeat(input_length).unsqueeze(0).repeat(batch_size, 1)"
   ]
  }
 ],
 "metadata": {
  "kernelspec": {
   "display_name": "Python 3.9.7 ('base')",
   "language": "python",
   "name": "python3"
  },
  "language_info": {
   "codemirror_mode": {
    "name": "ipython",
    "version": 3
   },
   "file_extension": ".py",
   "mimetype": "text/x-python",
   "name": "python",
   "nbconvert_exporter": "python",
   "pygments_lexer": "ipython3",
   "version": "3.9.7"
  },
  "orig_nbformat": 4,
  "vscode": {
   "interpreter": {
    "hash": "6f5583cf1d9466b5c27e75c89cc6b383bed5736d6b16c51c8074d8690011a952"
   }
  }
 },
 "nbformat": 4,
 "nbformat_minor": 2
}
